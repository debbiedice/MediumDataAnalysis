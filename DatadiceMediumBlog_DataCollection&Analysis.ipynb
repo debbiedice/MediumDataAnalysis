{
 "cells": [
  {
   "cell_type": "markdown",
   "metadata": {},
   "source": [
    "# Metrics on Medium\n",
    "\n",
    "Medium Stats is a tool where you can view traffic and visitor statistics for posts that you publish on the platform.\n",
    "\n",
    "### Medium Stats Data Collection\n",
    "\n",
    "The goal is to scrape baseline stats on stories from https://medium.com/me/stats in order to get a better understanding of how readers engage with datadice mediumn articles.\n",
    "\n",
    "I started with creating 2 different datasets\n",
    "\n",
    "1. Using Selenium to scrape data directly from datadice medium stat poge\n",
    "2. From the datadice medium stat page, right click and save the file as 'stat.json'. Using a html parser, the data can be transformed into a datafame\n",
    "\n",
    "Finally the 2 dataframes can be merged, and the analysis can begin."
   ]
  },
  {
   "cell_type": "markdown",
   "metadata": {},
   "source": [
    "."
   ]
  },
  {
   "cell_type": "markdown",
   "metadata": {},
   "source": [
    "#### SELENIUM SCRAPPING"
   ]
  },
  {
   "cell_type": "code",
   "execution_count": 45,
   "metadata": {
    "id": "hRiCMgGgp2vl"
   },
   "outputs": [],
   "source": [
    "# Imports the required libraries\n",
    "from selenium import webdriver\n",
    "import time\n",
    "from bs4 import BeautifulSoup\n",
    "import numpy as np\n",
    "import pandas as pd"
   ]
  },
  {
   "cell_type": "code",
   "execution_count": 46,
   "metadata": {
    "id": "VkyAazWaqB8q"
   },
   "outputs": [],
   "source": [
    "# Input Google login info to get into Medium ( confidential data )\n",
    "USER = ''\n",
    "PASS = ''"
   ]
  },
  {
   "cell_type": "code",
   "execution_count": 144,
   "metadata": {
    "id": "zS-X9_JfqDgL"
   },
   "outputs": [],
   "source": [
    "# Goes through splash and login process\n",
    "from selenium.webdriver.common.by import By\n",
    "def splash_process(driver, email, password):\n",
    "    \n",
    "    # Goes to sign in page\n",
    "    driver.get('https://medium.com/m/signin')\n",
    "\n",
    "    # Clicks sign in button\n",
    "#    driver.find_element_by_xpath(\".//button[contains(.,'All sign in options')]\").click()\n",
    "    time.sleep(3)\n",
    "    # Clicks sign in with Google\n",
    "    driver.find_element(By.XPATH,'//*[@id=\"susi-modal-google-button\"]/a').click()\n",
    "    \n",
    "    #driver.find_element_by_xpath(\".//button[contains(.,'Sign in with Google')]\").click()\n",
    "    time.sleep(1)\n",
    "    # Finds email field\n",
    "    email_field = driver.find_element_by_id(\"identifierId\")\n",
    "    time.sleep(1)\n",
    "    # Types in email\n",
    "    email_field.send_keys(email)\n",
    "\n",
    "    # Clicks next button\n",
    "    driver.find_element_by_id(\"identifierNext\").click()\n",
    "\n",
    "    # Wait a sec\n",
    "    time.sleep(5)\n",
    "\n",
    "    # Finds password field\n",
    "    pass_field = driver.find_element_by_name(\"password\")\n",
    "    time.sleep(5)\n",
    "    # Types in password\n",
    "    pass_field.send_keys(password)\n",
    "\n",
    "    # Click next button\n",
    "    driver.find_element_by_id(\"passwordNext\").click()\n",
    "    \n",
    "    # Wait a sec\n",
    "    time.sleep(10)\n",
    "    \n",
    "    # Go to stats page and return it \n",
    "    driver.get('https://medium.com/me/stats')\n",
    "    time.sleep(10)"
   ]
  },
  {
   "cell_type": "code",
   "execution_count": 48,
   "metadata": {
    "id": "z_quCD-MqL6Z"
   },
   "outputs": [],
   "source": [
    "# Scrolls to bottom to get all posts into view\n",
    "def scroll(driver):\n",
    "\n",
    "    # Get scroll height\n",
    "    last_height = driver.execute_script(\"return document.body.scrollHeight\")\n",
    "\n",
    "    while True:\n",
    "        # Scroll down to bottom\n",
    "        driver.execute_script(\"window.scrollTo(0, document.body.scrollHeight);\")\n",
    "\n",
    "        # Wait to load page\n",
    "        time.sleep(5)\n",
    "\n",
    "        # Calculate new scroll height and compare with last scroll height\n",
    "        new_height = driver.execute_script(\"return document.body.scrollHeight\")\n",
    "        if new_height == last_height:\n",
    "            break\n",
    "        last_height = new_height"
   ]
  },
  {
   "cell_type": "code",
   "execution_count": 145,
   "metadata": {},
   "outputs": [
    {
     "name": "stderr",
     "output_type": "stream",
     "text": [
      "\n",
      "\n",
      "====== WebDriver manager ======\n",
      "Current google-chrome version is 97.0.4692\n",
      "Get LATEST chromedriver version for 97.0.4692 google-chrome\n",
      "Driver [/Users/deborahmenezes/.wdm/drivers/chromedriver/mac64/97.0.4692.71/chromedriver] found in cache\n"
     ]
    }
   ],
   "source": [
    "from selenium import webdriver\n",
    "from selenium.webdriver.chrome.service import Service\n",
    "from webdriver_manager.chrome import ChromeDriverManager\n",
    "#Here the selenium webdriver gets into the browser request called the test automated browser (aka bot) \n",
    "driver = webdriver.Chrome(service=Service(ChromeDriverManager().install()))\n"
   ]
  },
  {
   "cell_type": "code",
   "execution_count": 147,
   "metadata": {
    "id": "c5GOiVZeqT4h"
   },
   "outputs": [
    {
     "name": "stderr",
     "output_type": "stream",
     "text": [
      "/var/folders/ff/yy0n6l355vlgtrrd503kz0_c0000gn/T/ipykernel_47851/662438906.py:17: DeprecationWarning: find_element_by_* commands are deprecated. Please use find_element() instead\n",
      "  email_field = driver.find_element_by_id(\"identifierId\")\n",
      "/var/folders/ff/yy0n6l355vlgtrrd503kz0_c0000gn/T/ipykernel_47851/662438906.py:23: DeprecationWarning: find_element_by_* commands are deprecated. Please use find_element() instead\n",
      "  driver.find_element_by_id(\"identifierNext\").click()\n",
      "/var/folders/ff/yy0n6l355vlgtrrd503kz0_c0000gn/T/ipykernel_47851/662438906.py:29: DeprecationWarning: find_element_by_* commands are deprecated. Please use find_element() instead\n",
      "  pass_field = driver.find_element_by_name(\"password\")\n",
      "/var/folders/ff/yy0n6l355vlgtrrd503kz0_c0000gn/T/ipykernel_47851/662438906.py:35: DeprecationWarning: find_element_by_* commands are deprecated. Please use find_element() instead\n",
      "  driver.find_element_by_id(\"passwordNext\").click()\n"
     ]
    }
   ],
   "source": [
    "# Log in!\n",
    "splash_process(driver, USER, PASS)\n",
    "scroll(driver)"
   ]
  },
  {
   "cell_type": "code",
   "execution_count": 122,
   "metadata": {},
   "outputs": [],
   "source": [
    "#Gebs the path to each blog to fetch the details out from it\n",
    "from selenium.webdriver.common.by import By\n",
    "driver.get('https://medium.com/me/stats')\n",
    "time.sleep(4)\n",
    "scroll(driver)\n",
    "\n",
    "blog_posts = []\n",
    "\n",
    "for i in range(1, 57):\n",
    "    try:\n",
    "        blog_post = driver.find_element(By.XPATH, f\"/html/body/div[1]/div[2]/div/div[3]/div/div[5]/table/tbody/tr[{i}]/td[1]/div/a\")\n",
    "        reff = blog_post.get_attribute('href')\n",
    "        blog_posts.append(reff)\n",
    "    except:\n",
    "        pass"
   ]
  },
  {
   "cell_type": "code",
   "execution_count": 123,
   "metadata": {},
   "outputs": [
    {
     "name": "stdout",
     "output_type": "stream",
     "text": [
      "38% 63% 34 12 3 2\n"
     ]
    }
   ],
   "source": [
    "blog_name = []\n",
    "InternalPercentage  = []\n",
    "ExternalPercentage  = []\n",
    "Emails  = []\n",
    "AndroidDevice  = []\n",
    "Google  = []\n",
    "linkedIn  = []\n",
    "for blog in blog_posts:\n",
    "    driver.get(blog)\n",
    "    time.sleep(3)\n",
    "    \n",
    "    #blogname = driver.find_element(By.XPATH, '/html/body/div/div/div[4]/div[1]/div/div[1]/div[1]/div[2]/div[2]/h2/a') \n",
    "    #soup = BeautifulSoup(blogname, 'html.parser')\n",
    "    #blog_name.append(blogname.get_attribute(soup.select('a')))\n",
    "    \n",
    "    intviews = driver.find_element(By.XPATH, '/html/body/div/div/div[4]/div[2]/div/div/div/div[1]/div/div[2]/h3')    \n",
    "    InternalPercentage.append(intviews.get_attribute('innerHTML'))\n",
    "    \n",
    "    exviews = driver.find_element(By.XPATH, '/html/body/div/div/div[4]/div[2]/div/div/div/div[1]/div/div[4]/div[1]/h3')    \n",
    "    ExternalPercentage.append(exviews.get_attribute('innerHTML'))\n",
    " \n",
    "    mail = driver.find_element(By.XPATH, '/html/body/div/div/div[4]/div[2]/div/div/div/div[1]/div/div[4]/div[2]/div/h3')    \n",
    "    Emails.append(mail.get_attribute('innerHTML'))\n",
    "                            \n",
    "    device = driver.find_element(By.XPATH, '/html/body/div/div/div[4]/div[2]/div/div/div/div[1]/div/div[4]/div[3]/div/h3')    \n",
    "    AndroidDevice.append(device.get_attribute('innerHTML'))\n",
    " \n",
    "    google = driver.find_element(By.XPATH, '/html/body/div/div/div[4]/div[2]/div/div/div/div[1]/div/div[4]/div[4]/div/h3')    \n",
    "    Google.append(google.get_attribute('innerHTML'))\n",
    "    \n",
    "    linkedin = driver.find_element(By.XPATH, '/html/body/div/div/div[4]/div[2]/div/div/div/div[1]/div/div[4]/div[5]/div/h3')    \n",
    "    linkedIn.append(linkedin.get_attribute('innerHTML'))\n",
    "    \n",
    "    \n",
    "    \n",
    "print(InternalPercentage[1], ExternalPercentage[1], Emails[1], AndroidDevice[1], Google[1], linkedIn[1])    \n",
    "    \n",
    "    "
   ]
  },
  {
   "cell_type": "code",
   "execution_count": 124,
   "metadata": {},
   "outputs": [],
   "source": [
    "df_blogdetails = pd.DataFrame(data={'InternalPercentage': InternalPercentage, 'ExternalPercentage': ExternalPercentage,'Emails': Emails,\n",
    "                        'AndroidDevice': AndroidDevice, 'Google': Google, 'linkedIn': linkedIn})\n",
    "                        "
   ]
  },
  {
   "cell_type": "code",
   "execution_count": 125,
   "metadata": {},
   "outputs": [
    {
     "data": {
      "text/html": [
       "<div>\n",
       "<style scoped>\n",
       "    .dataframe tbody tr th:only-of-type {\n",
       "        vertical-align: middle;\n",
       "    }\n",
       "\n",
       "    .dataframe tbody tr th {\n",
       "        vertical-align: top;\n",
       "    }\n",
       "\n",
       "    .dataframe thead th {\n",
       "        text-align: right;\n",
       "    }\n",
       "</style>\n",
       "<table border=\"1\" class=\"dataframe\">\n",
       "  <thead>\n",
       "    <tr style=\"text-align: right;\">\n",
       "      <th></th>\n",
       "      <th>InternalPercentage</th>\n",
       "      <th>ExternalPercentage</th>\n",
       "      <th>Emails</th>\n",
       "      <th>AndroidDevice</th>\n",
       "      <th>Google</th>\n",
       "      <th>linkedIn</th>\n",
       "    </tr>\n",
       "  </thead>\n",
       "  <tbody>\n",
       "    <tr>\n",
       "      <th>36</th>\n",
       "      <td>22%</td>\n",
       "      <td>78%</td>\n",
       "      <td>75</td>\n",
       "      <td>37</td>\n",
       "      <td>3</td>\n",
       "      <td>3</td>\n",
       "    </tr>\n",
       "    <tr>\n",
       "      <th>37</th>\n",
       "      <td>7%</td>\n",
       "      <td>93%</td>\n",
       "      <td>2.6K</td>\n",
       "      <td>1.4K</td>\n",
       "      <td>1.1K</td>\n",
       "      <td>132</td>\n",
       "    </tr>\n",
       "    <tr>\n",
       "      <th>38</th>\n",
       "      <td>36%</td>\n",
       "      <td>64%</td>\n",
       "      <td>166</td>\n",
       "      <td>154</td>\n",
       "      <td>37</td>\n",
       "      <td>6</td>\n",
       "    </tr>\n",
       "    <tr>\n",
       "      <th>39</th>\n",
       "      <td>21%</td>\n",
       "      <td>79%</td>\n",
       "      <td>418</td>\n",
       "      <td>70</td>\n",
       "      <td>5</td>\n",
       "      <td>4</td>\n",
       "    </tr>\n",
       "    <tr>\n",
       "      <th>40</th>\n",
       "      <td>24%</td>\n",
       "      <td>76%</td>\n",
       "      <td>37</td>\n",
       "      <td>16</td>\n",
       "      <td>2</td>\n",
       "      <td>2</td>\n",
       "    </tr>\n",
       "  </tbody>\n",
       "</table>\n",
       "</div>"
      ],
      "text/plain": [
       "   InternalPercentage ExternalPercentage Emails AndroidDevice Google linkedIn\n",
       "36                22%                78%     75            37      3        3\n",
       "37                 7%                93%   2.6K          1.4K   1.1K      132\n",
       "38                36%                64%    166           154     37        6\n",
       "39                21%                79%    418            70      5        4\n",
       "40                24%                76%     37            16      2        2"
      ]
     },
     "execution_count": 125,
     "metadata": {},
     "output_type": "execute_result"
    }
   ],
   "source": [
    "df_blogdetails.tail()"
   ]
  },
  {
   "cell_type": "code",
   "execution_count": 156,
   "metadata": {
    "id": "YjV0VndUqUmB"
   },
   "outputs": [],
   "source": [
    "# Grab the main table html from Medium stats by using the element by.\n",
    "driver.get('https://medium.com/me/stats')\n",
    "time.sleep(10)\n",
    "table = driver.find_element(By.CLASS_NAME,'js-statsTableBody')"
   ]
  },
  {
   "cell_type": "code",
   "execution_count": 140,
   "metadata": {
    "id": "2LNlret_qdvw"
   },
   "outputs": [],
   "source": [
    "# Get the raw html from our table element\n",
    "raw_html = table.get_attribute('innerHTML')"
   ]
  },
  {
   "cell_type": "code",
   "execution_count": 141,
   "metadata": {
    "id": "ik5zt0ryqfty"
   },
   "outputs": [],
   "source": [
    "# Preview html\n",
    "#print(raw_html)"
   ]
  },
  {
   "cell_type": "code",
   "execution_count": 142,
   "metadata": {
    "id": "Tin6wroiqheH"
   },
   "outputs": [],
   "source": [
    "# Quit our driver\n",
    "driver.quit()"
   ]
  },
  {
   "cell_type": "code",
   "execution_count": 130,
   "metadata": {
    "id": "ldN4cvCvqj23"
   },
   "outputs": [],
   "source": [
    "# Clean html  \n",
    "soup = BeautifulSoup(raw_html, 'html.parser')"
   ]
  },
  {
   "cell_type": "code",
   "execution_count": 131,
   "metadata": {
    "id": "Rc4Yc4rWqljU"
   },
   "outputs": [
    {
     "name": "stdout",
     "output_type": "stream",
     "text": [
      "New Data Studio feature: Report Theme in Navigation\n"
     ]
    }
   ],
   "source": [
    "# Story titles\n",
    "titles = [item.text for i, item in enumerate(soup.select('a'))]\n",
    "print(titles[0])"
   ]
  },
  {
   "cell_type": "code",
   "execution_count": 132,
   "metadata": {},
   "outputs": [
    {
     "name": "stdout",
     "output_type": "stream",
     "text": [
      "10 New Data Studio feature: Report Theme in Navigation\n"
     ]
    }
   ],
   "source": [
    "#fetching out the story title \n",
    "TitleName = []\n",
    "for title in titles:\n",
    "    if len(title) > 15:\n",
    "        TitleName.append(title)\n",
    "        \n",
    "print(len(TitleName), TitleName[0])    "
   ]
  },
  {
   "cell_type": "code",
   "execution_count": 133,
   "metadata": {},
   "outputs": [
    {
     "name": "stdout",
     "output_type": "stream",
     "text": [
      "10 None\n"
     ]
    }
   ],
   "source": [
    "#fetching out the publishing names \n",
    "results = []\n",
    "for i, j in enumerate(titles):\n",
    "  if j == 'View story':\n",
    "    if i > 0:\n",
    "      results.append(titles[i-1])\n",
    "    else:\n",
    "      results.append(None)\n",
    "\n",
    "\n",
    "\n",
    "PublishingName = []\n",
    "for result in results:\n",
    "    if len(result) < 18:\n",
    "        PublishingName.append(result)\n",
    "    else:\n",
    "        PublishingName.append(None)\n",
    "        \n",
    "        \n",
    "print(len(PublishingName), PublishingName[0]) "
   ]
  },
  {
   "cell_type": "code",
   "execution_count": 139,
   "metadata": {
    "id": "WugO12Vdq6JU"
   },
   "outputs": [
    {
     "name": "stdout",
     "output_type": "stream",
     "text": [
      "10 3 min read\n"
     ]
    }
   ],
   "source": [
    "# Reading times\n",
    "ReadTime = [item.get('title') for i, item in enumerate(soup.findAll('span', {'class':'readingTime'}))]\n",
    "print(len(ReadTime), ReadTime[0])"
   ]
  },
  {
   "cell_type": "code",
   "execution_count": 138,
   "metadata": {},
   "outputs": [
    {
     "name": "stdout",
     "output_type": "stream",
     "text": [
      "10 87\n"
     ]
    }
   ],
   "source": [
    "#Get all numerical metrics\n",
    "nums = [item.text for i, item in enumerate(soup.findAll('span', {'class':'sortableTable-value'})) if (len(item.text) < 13 or '.' in item.text)]\n",
    "\n",
    "# Views\n",
    "Views = nums[::4]\n",
    "print(len(Views), Views[0])"
   ]
  },
  {
   "cell_type": "code",
   "execution_count": 135,
   "metadata": {
    "id": "aiAOk8BqrB_5"
   },
   "outputs": [
    {
     "name": "stdout",
     "output_type": "stream",
     "text": [
      "10 61\n"
     ]
    }
   ],
   "source": [
    "# Reads\n",
    "Reads = nums[1::4]\n",
    "print(len(Reads), Reads[0])\n"
   ]
  },
  {
   "cell_type": "code",
   "execution_count": 136,
   "metadata": {
    "id": "ctt2DvTWrFkZ"
   },
   "outputs": [
    {
     "name": "stdout",
     "output_type": "stream",
     "text": [
      "10 70.11494252873563\n"
     ]
    }
   ],
   "source": [
    "# Read ratio\n",
    "ReadRatio = nums[2::4]\n",
    "print(len(ReadRatio),ReadRatio[0])\n"
   ]
  },
  {
   "cell_type": "code",
   "execution_count": 137,
   "metadata": {
    "id": "vQ7XvkIHrHFx"
   },
   "outputs": [
    {
     "name": "stdout",
     "output_type": "stream",
     "text": [
      "10 1\n"
     ]
    }
   ],
   "source": [
    "# Fans\n",
    "Fans = nums[3::4]\n",
    "print(len(Fans), Fans[0])"
   ]
  },
  {
   "cell_type": "code",
   "execution_count": 393,
   "metadata": {
    "id": "swVpOf1WrJHN"
   },
   "outputs": [],
   "source": [
    "# Create dataframe\n",
    "df = pd.DataFrame(data={'TitleName': TitleName, 'PublishingName': PublishingName,'ReadTime': ReadTime,'Views': Views, \n",
    "                        'Reads': Reads, 'ReadRatio': ReadRatio, 'Fans': Fans})"
   ]
  },
  {
   "cell_type": "code",
   "execution_count": 394,
   "metadata": {
    "id": "K3oeUsoXrLny"
   },
   "outputs": [],
   "source": [
    "# Reorder columns\n",
    "df_selenium = df[['TitleName','PublishingName','ReadTime', 'Views', 'Reads', 'ReadRatio', 'Fans']]"
   ]
  },
  {
   "cell_type": "code",
   "execution_count": 562,
   "metadata": {
    "id": "A2JDygFTrMXc"
   },
   "outputs": [
    {
     "data": {
      "text/html": [
       "<div>\n",
       "<style scoped>\n",
       "    .dataframe tbody tr th:only-of-type {\n",
       "        vertical-align: middle;\n",
       "    }\n",
       "\n",
       "    .dataframe tbody tr th {\n",
       "        vertical-align: top;\n",
       "    }\n",
       "\n",
       "    .dataframe thead th {\n",
       "        text-align: right;\n",
       "    }\n",
       "</style>\n",
       "<table border=\"1\" class=\"dataframe\">\n",
       "  <thead>\n",
       "    <tr style=\"text-align: right;\">\n",
       "      <th></th>\n",
       "      <th>TitleName</th>\n",
       "      <th>PublishingName</th>\n",
       "      <th>ReadTime</th>\n",
       "      <th>Views</th>\n",
       "      <th>Reads</th>\n",
       "      <th>ReadRatio</th>\n",
       "      <th>Fans</th>\n",
       "    </tr>\n",
       "  </thead>\n",
       "  <tbody>\n",
       "    <tr>\n",
       "      <th>0</th>\n",
       "      <td>Latest Updates on Google Data Analytics (Decem...</td>\n",
       "      <td>Geek Culture</td>\n",
       "      <td>4</td>\n",
       "      <td>57</td>\n",
       "      <td>22</td>\n",
       "      <td>38.596491</td>\n",
       "      <td>5</td>\n",
       "    </tr>\n",
       "    <tr>\n",
       "      <th>1</th>\n",
       "      <td>The Wrangler User Interface of Cloud Data Fusion</td>\n",
       "      <td>None</td>\n",
       "      <td>5</td>\n",
       "      <td>62</td>\n",
       "      <td>37</td>\n",
       "      <td>59.677419</td>\n",
       "      <td>4</td>\n",
       "    </tr>\n",
       "  </tbody>\n",
       "</table>\n",
       "</div>"
      ],
      "text/plain": [
       "                                           TitleName PublishingName  ReadTime  \\\n",
       "0  Latest Updates on Google Data Analytics (Decem...   Geek Culture         4   \n",
       "1   The Wrangler User Interface of Cloud Data Fusion           None         5   \n",
       "\n",
       "   Views  Reads  ReadRatio  Fans  \n",
       "0     57     22  38.596491     5  \n",
       "1     62     37  59.677419     4  "
      ]
     },
     "execution_count": 562,
     "metadata": {},
     "output_type": "execute_result"
    }
   ],
   "source": [
    "# Preview\n",
    "df_selenium.head(2)"
   ]
  },
  {
   "cell_type": "code",
   "execution_count": 398,
   "metadata": {
    "id": "DHK9huz7rJ9o"
   },
   "outputs": [
    {
     "name": "stdout",
     "output_type": "stream",
     "text": [
      "<class 'pandas.core.frame.DataFrame'>\n",
      "RangeIndex: 40 entries, 0 to 39\n",
      "Data columns (total 7 columns):\n",
      " #   Column          Non-Null Count  Dtype \n",
      "---  ------          --------------  ----- \n",
      " 0   TitleName       40 non-null     object\n",
      " 1   PublishingName  35 non-null     object\n",
      " 2   ReadTime        40 non-null     object\n",
      " 3   Views           40 non-null     object\n",
      " 4   Reads           40 non-null     object\n",
      " 5   ReadRatio       40 non-null     object\n",
      " 6   Fans            40 non-null     object\n",
      "dtypes: object(7)\n",
      "memory usage: 2.3+ KB\n"
     ]
    }
   ],
   "source": [
    "# Overview\n",
    "df_selenium.info()"
   ]
  },
  {
   "cell_type": "code",
   "execution_count": 399,
   "metadata": {
    "id": "SYv046FZrRlG"
   },
   "outputs": [
    {
     "name": "stdout",
     "output_type": "stream",
     "text": [
      "<class 'pandas.core.frame.DataFrame'>\n",
      "RangeIndex: 40 entries, 0 to 39\n",
      "Data columns (total 7 columns):\n",
      " #   Column          Non-Null Count  Dtype  \n",
      "---  ------          --------------  -----  \n",
      " 0   TitleName       40 non-null     object \n",
      " 1   PublishingName  35 non-null     object \n",
      " 2   ReadTime        40 non-null     int64  \n",
      " 3   Views           40 non-null     int64  \n",
      " 4   Reads           40 non-null     int64  \n",
      " 5   ReadRatio       40 non-null     float64\n",
      " 6   Fans            40 non-null     int64  \n",
      "dtypes: float64(1), int64(4), object(2)\n",
      "memory usage: 2.3+ KB\n"
     ]
    }
   ],
   "source": [
    "# Convert numerical features to floats\n",
    "df_selenium = df_selenium.apply(pd.to_numeric, errors='ignore')\n",
    "df_selenium['ReadTime'] = df_selenium['ReadTime'].apply(lambda x: int(x.split()[0]))\n",
    "df_selenium.info()"
   ]
  },
  {
   "cell_type": "code",
   "execution_count": 400,
   "metadata": {
    "id": "R7n4ZyowrXTy"
   },
   "outputs": [
    {
     "data": {
      "text/html": [
       "<div>\n",
       "<style scoped>\n",
       "    .dataframe tbody tr th:only-of-type {\n",
       "        vertical-align: middle;\n",
       "    }\n",
       "\n",
       "    .dataframe tbody tr th {\n",
       "        vertical-align: top;\n",
       "    }\n",
       "\n",
       "    .dataframe thead th {\n",
       "        text-align: right;\n",
       "    }\n",
       "</style>\n",
       "<table border=\"1\" class=\"dataframe\">\n",
       "  <thead>\n",
       "    <tr style=\"text-align: right;\">\n",
       "      <th></th>\n",
       "      <th>ReadTime</th>\n",
       "      <th>Views</th>\n",
       "      <th>Reads</th>\n",
       "      <th>ReadRatio</th>\n",
       "      <th>Fans</th>\n",
       "    </tr>\n",
       "  </thead>\n",
       "  <tbody>\n",
       "    <tr>\n",
       "      <th>count</th>\n",
       "      <td>40.000000</td>\n",
       "      <td>40.000000</td>\n",
       "      <td>40.000000</td>\n",
       "      <td>40.000000</td>\n",
       "      <td>40.000000</td>\n",
       "    </tr>\n",
       "    <tr>\n",
       "      <th>mean</th>\n",
       "      <td>5.025000</td>\n",
       "      <td>580.175000</td>\n",
       "      <td>264.350000</td>\n",
       "      <td>47.956546</td>\n",
       "      <td>8.250000</td>\n",
       "    </tr>\n",
       "    <tr>\n",
       "      <th>std</th>\n",
       "      <td>1.049725</td>\n",
       "      <td>957.582851</td>\n",
       "      <td>346.702455</td>\n",
       "      <td>9.344947</td>\n",
       "      <td>5.290291</td>\n",
       "    </tr>\n",
       "    <tr>\n",
       "      <th>min</th>\n",
       "      <td>3.000000</td>\n",
       "      <td>57.000000</td>\n",
       "      <td>22.000000</td>\n",
       "      <td>25.118483</td>\n",
       "      <td>3.000000</td>\n",
       "    </tr>\n",
       "    <tr>\n",
       "      <th>25%</th>\n",
       "      <td>4.000000</td>\n",
       "      <td>196.500000</td>\n",
       "      <td>82.750000</td>\n",
       "      <td>41.904943</td>\n",
       "      <td>5.750000</td>\n",
       "    </tr>\n",
       "    <tr>\n",
       "      <th>50%</th>\n",
       "      <td>5.000000</td>\n",
       "      <td>282.000000</td>\n",
       "      <td>130.500000</td>\n",
       "      <td>48.084416</td>\n",
       "      <td>7.000000</td>\n",
       "    </tr>\n",
       "    <tr>\n",
       "      <th>75%</th>\n",
       "      <td>6.000000</td>\n",
       "      <td>570.000000</td>\n",
       "      <td>286.500000</td>\n",
       "      <td>55.661228</td>\n",
       "      <td>9.000000</td>\n",
       "    </tr>\n",
       "    <tr>\n",
       "      <th>max</th>\n",
       "      <td>7.000000</td>\n",
       "      <td>5884.000000</td>\n",
       "      <td>1815.000000</td>\n",
       "      <td>61.307420</td>\n",
       "      <td>35.000000</td>\n",
       "    </tr>\n",
       "  </tbody>\n",
       "</table>\n",
       "</div>"
      ],
      "text/plain": [
       "        ReadTime        Views        Reads  ReadRatio       Fans\n",
       "count  40.000000    40.000000    40.000000  40.000000  40.000000\n",
       "mean    5.025000   580.175000   264.350000  47.956546   8.250000\n",
       "std     1.049725   957.582851   346.702455   9.344947   5.290291\n",
       "min     3.000000    57.000000    22.000000  25.118483   3.000000\n",
       "25%     4.000000   196.500000    82.750000  41.904943   5.750000\n",
       "50%     5.000000   282.000000   130.500000  48.084416   7.000000\n",
       "75%     6.000000   570.000000   286.500000  55.661228   9.000000\n",
       "max     7.000000  5884.000000  1815.000000  61.307420  35.000000"
      ]
     },
     "execution_count": 400,
     "metadata": {},
     "output_type": "execute_result"
    }
   ],
   "source": [
    "# Numerical overview\n",
    "df_selenium.describe()"
   ]
  },
  {
   "cell_type": "markdown",
   "metadata": {},
   "source": [
    "."
   ]
  },
  {
   "cell_type": "markdown",
   "metadata": {},
   "source": [
    "## Creating a dataframe from our medium site by downloading the stats in a json format"
   ]
  },
  {
   "cell_type": "code",
   "execution_count": 296,
   "metadata": {},
   "outputs": [],
   "source": [
    "string = open('mystat.json', 'r', encoding='utf-8').read()\n",
    "\n",
    "# Remove unnecessary preceding characters and save as DataFrame\n",
    "df=pd.DataFrame(json.loads(re.sub(r'^.*?{', '{', string)))\n",
    "\n",
    "# Extract story stats \n",
    "df_stories=pd.json_normalize(df.loc['value', 'payload'], sep='_')"
   ]
  },
  {
   "cell_type": "code",
   "execution_count": 298,
   "metadata": {},
   "outputs": [],
   "source": [
    "# ------------------------------- Setup -------------------------------- #\n",
    "import pandas as pd\n",
    "import json\n",
    "import re\n",
    "pd.options.display.max_columns=200\n",
    "\n",
    "# -------------------- Extract Medium Story Stats ---------------------- #\n",
    "\n",
    "# Read text file\n",
    "string = open('mystat.json', 'r', encoding='utf-8').read()\n",
    "\n",
    "# Remove unnecessary preceding characters and save as DataFrame\n",
    "df=pd.DataFrame(json.loads(re.sub(r'^.*?{', '{', string)))\n",
    "\n",
    "# Extract story stats \n",
    "df_stories=pd.json_normalize(df.loc['value', 'payload'], sep='_')\n",
    "\n",
    "\n",
    "# ------------------- Bonus: User and Publications --------------------- #\n",
    "\n",
    "# Create a reference DataFrame\n",
    "ref=pd.json_normalize(df.loc['references', 'payload'], max_level=1, sep='_')\n",
    "\n",
    "# Extract User and Publication information\n",
    "df_publications=pd.DataFrame()\n",
    "\n",
    "for i in ref.columns:\n",
    "    if i[:4]=='User':\n",
    "        df_user=pd.json_normalize(ref.loc[0,i], sep='_')\n",
    "    elif i[:4]=='Coll':\n",
    "        tmp=pd.json_normalize(ref.loc[0,i], sep='_')\n",
    "        df_publications=pd.concat([df_publications, tmp], axis=0)\n",
    "    else: print(\"new Category Found: \"+i)\n",
    "\n",
    "\n",
    "# ---------- Bonus 2: Convert Timestamps to readable format  ----------- #\n",
    "\n",
    "# Convert timestamps to readable datetime\n",
    "date_fields=['createdAt', 'firstPublishedAt', 'primaryTopic_createdAt']\n",
    "for j in date_fields:\n",
    "    df_stories[j]=pd.to_datetime(df_stories[j], unit='ms')"
   ]
  },
  {
   "cell_type": "code",
   "execution_count": 563,
   "metadata": {},
   "outputs": [
    {
     "data": {
      "text/html": [
       "<div>\n",
       "<style scoped>\n",
       "    .dataframe tbody tr th:only-of-type {\n",
       "        vertical-align: middle;\n",
       "    }\n",
       "\n",
       "    .dataframe tbody tr th {\n",
       "        vertical-align: top;\n",
       "    }\n",
       "\n",
       "    .dataframe thead th {\n",
       "        text-align: right;\n",
       "    }\n",
       "</style>\n",
       "<table border=\"1\" class=\"dataframe\">\n",
       "  <thead>\n",
       "    <tr style=\"text-align: right;\">\n",
       "      <th></th>\n",
       "      <th>postId</th>\n",
       "      <th>slug</th>\n",
       "      <th>title</th>\n",
       "      <th>creatorId</th>\n",
       "      <th>collectionId</th>\n",
       "      <th>upvotes</th>\n",
       "      <th>views</th>\n",
       "      <th>reads</th>\n",
       "      <th>createdAt</th>\n",
       "      <th>firstPublishedAt</th>\n",
       "      <th>visibility</th>\n",
       "      <th>firstPublishedAtBucket</th>\n",
       "      <th>readingTime</th>\n",
       "      <th>syndicatedViews</th>\n",
       "      <th>claps</th>\n",
       "      <th>updateNotificationSubscribers</th>\n",
       "      <th>isSeries</th>\n",
       "      <th>internalReferrerViews</th>\n",
       "      <th>friendsLinkViews</th>\n",
       "      <th>type</th>\n",
       "      <th>previewImage_id</th>\n",
       "      <th>previewImage_originalWidth</th>\n",
       "      <th>previewImage_originalHeight</th>\n",
       "      <th>previewImage_isFeatured</th>\n",
       "      <th>primaryTopic_topicId</th>\n",
       "      <th>primaryTopic_slug</th>\n",
       "      <th>primaryTopic_createdAt</th>\n",
       "      <th>primaryTopic_deletedAt</th>\n",
       "      <th>primaryTopic_image_id</th>\n",
       "      <th>primaryTopic_image_originalWidth</th>\n",
       "      <th>primaryTopic_image_originalHeight</th>\n",
       "      <th>primaryTopic_name</th>\n",
       "      <th>primaryTopic_description</th>\n",
       "      <th>primaryTopic_relatedTopics</th>\n",
       "      <th>primaryTopic_visibility</th>\n",
       "      <th>primaryTopic_relatedTags</th>\n",
       "      <th>primaryTopic_relatedTopicIds</th>\n",
       "      <th>primaryTopic_seoTitle</th>\n",
       "      <th>primaryTopic_type</th>\n",
       "    </tr>\n",
       "  </thead>\n",
       "  <tbody>\n",
       "    <tr>\n",
       "      <th>0</th>\n",
       "      <td>b8b6cb80218f</td>\n",
       "      <td>latest-updates-on-google-data-analytics-decemb...</td>\n",
       "      <td>Latest Updates on Google Data Analytics (Decem...</td>\n",
       "      <td>2851976d5ad7</td>\n",
       "      <td>9758482ba857</td>\n",
       "      <td>5</td>\n",
       "      <td>55</td>\n",
       "      <td>22</td>\n",
       "      <td>2022-01-10 12:50:48.355</td>\n",
       "      <td>2022-01-12 09:03:02.129</td>\n",
       "      <td>0</td>\n",
       "      <td>January 2022</td>\n",
       "      <td>4</td>\n",
       "      <td>2</td>\n",
       "      <td>201</td>\n",
       "      <td>0</td>\n",
       "      <td>False</td>\n",
       "      <td>20</td>\n",
       "      <td>0</td>\n",
       "      <td>PostStat</td>\n",
       "      <td>0*kOMyI_gFv6djFic5</td>\n",
       "      <td>1600.0</td>\n",
       "      <td>1066.0</td>\n",
       "      <td>True</td>\n",
       "      <td>NaN</td>\n",
       "      <td>NaN</td>\n",
       "      <td>NaT</td>\n",
       "      <td>NaN</td>\n",
       "      <td>NaN</td>\n",
       "      <td>NaN</td>\n",
       "      <td>NaN</td>\n",
       "      <td>NaN</td>\n",
       "      <td>NaN</td>\n",
       "      <td>NaN</td>\n",
       "      <td>NaN</td>\n",
       "      <td>NaN</td>\n",
       "      <td>NaN</td>\n",
       "      <td>NaN</td>\n",
       "      <td>NaN</td>\n",
       "    </tr>\n",
       "    <tr>\n",
       "      <th>1</th>\n",
       "      <td>21e96cfe1b2d</td>\n",
       "      <td>the-wrangler-user-interface-of-cloud-data-fusion</td>\n",
       "      <td>The Wrangler User Interface of Cloud Data Fusion</td>\n",
       "      <td>2851976d5ad7</td>\n",
       "      <td>NaN</td>\n",
       "      <td>4</td>\n",
       "      <td>58</td>\n",
       "      <td>34</td>\n",
       "      <td>2021-12-23 13:13:23.249</td>\n",
       "      <td>2021-12-23 13:30:58.275</td>\n",
       "      <td>0</td>\n",
       "      <td>December 2021</td>\n",
       "      <td>5</td>\n",
       "      <td>0</td>\n",
       "      <td>200</td>\n",
       "      <td>0</td>\n",
       "      <td>False</td>\n",
       "      <td>17</td>\n",
       "      <td>0</td>\n",
       "      <td>PostStat</td>\n",
       "      <td>0*Ewq7TamyPHZRIqdf</td>\n",
       "      <td>1600.0</td>\n",
       "      <td>1066.0</td>\n",
       "      <td>True</td>\n",
       "      <td>NaN</td>\n",
       "      <td>NaN</td>\n",
       "      <td>NaT</td>\n",
       "      <td>NaN</td>\n",
       "      <td>NaN</td>\n",
       "      <td>NaN</td>\n",
       "      <td>NaN</td>\n",
       "      <td>NaN</td>\n",
       "      <td>NaN</td>\n",
       "      <td>NaN</td>\n",
       "      <td>NaN</td>\n",
       "      <td>NaN</td>\n",
       "      <td>NaN</td>\n",
       "      <td>NaN</td>\n",
       "      <td>NaN</td>\n",
       "    </tr>\n",
       "  </tbody>\n",
       "</table>\n",
       "</div>"
      ],
      "text/plain": [
       "         postId                                               slug  \\\n",
       "0  b8b6cb80218f  latest-updates-on-google-data-analytics-decemb...   \n",
       "1  21e96cfe1b2d   the-wrangler-user-interface-of-cloud-data-fusion   \n",
       "\n",
       "                                               title     creatorId  \\\n",
       "0  Latest Updates on Google Data Analytics (Decem...  2851976d5ad7   \n",
       "1   The Wrangler User Interface of Cloud Data Fusion  2851976d5ad7   \n",
       "\n",
       "   collectionId  upvotes  views  reads               createdAt  \\\n",
       "0  9758482ba857        5     55     22 2022-01-10 12:50:48.355   \n",
       "1           NaN        4     58     34 2021-12-23 13:13:23.249   \n",
       "\n",
       "         firstPublishedAt  visibility firstPublishedAtBucket  readingTime  \\\n",
       "0 2022-01-12 09:03:02.129           0           January 2022            4   \n",
       "1 2021-12-23 13:30:58.275           0          December 2021            5   \n",
       "\n",
       "   syndicatedViews  claps  updateNotificationSubscribers  isSeries  \\\n",
       "0                2    201                              0     False   \n",
       "1                0    200                              0     False   \n",
       "\n",
       "   internalReferrerViews  friendsLinkViews      type     previewImage_id  \\\n",
       "0                     20                 0  PostStat  0*kOMyI_gFv6djFic5   \n",
       "1                     17                 0  PostStat  0*Ewq7TamyPHZRIqdf   \n",
       "\n",
       "   previewImage_originalWidth  previewImage_originalHeight  \\\n",
       "0                      1600.0                       1066.0   \n",
       "1                      1600.0                       1066.0   \n",
       "\n",
       "   previewImage_isFeatured primaryTopic_topicId primaryTopic_slug  \\\n",
       "0                     True                  NaN               NaN   \n",
       "1                     True                  NaN               NaN   \n",
       "\n",
       "  primaryTopic_createdAt  primaryTopic_deletedAt primaryTopic_image_id  \\\n",
       "0                    NaT                     NaN                   NaN   \n",
       "1                    NaT                     NaN                   NaN   \n",
       "\n",
       "   primaryTopic_image_originalWidth  primaryTopic_image_originalHeight  \\\n",
       "0                               NaN                                NaN   \n",
       "1                               NaN                                NaN   \n",
       "\n",
       "  primaryTopic_name primaryTopic_description primaryTopic_relatedTopics  \\\n",
       "0               NaN                      NaN                        NaN   \n",
       "1               NaN                      NaN                        NaN   \n",
       "\n",
       "   primaryTopic_visibility primaryTopic_relatedTags  \\\n",
       "0                      NaN                      NaN   \n",
       "1                      NaN                      NaN   \n",
       "\n",
       "  primaryTopic_relatedTopicIds primaryTopic_seoTitle primaryTopic_type  \n",
       "0                          NaN                   NaN               NaN  \n",
       "1                          NaN                   NaN               NaN  "
      ]
     },
     "execution_count": 563,
     "metadata": {},
     "output_type": "execute_result"
    }
   ],
   "source": [
    "#view the dataframe \n",
    "df_stories.head(2)"
   ]
  },
  {
   "cell_type": "code",
   "execution_count": 622,
   "metadata": {},
   "outputs": [],
   "source": [
    "#Taking only the relevant data that is necxessary for the analysis#\n",
    "df_rawhtml = pd.DataFrame(df_stories, columns=['createdAt', 'claps','internalReferrerViews','primaryTopic_name'   ])\n",
    "\n"
   ]
  },
  {
   "cell_type": "code",
   "execution_count": 623,
   "metadata": {},
   "outputs": [
    {
     "data": {
      "text/html": [
       "<div>\n",
       "<style scoped>\n",
       "    .dataframe tbody tr th:only-of-type {\n",
       "        vertical-align: middle;\n",
       "    }\n",
       "\n",
       "    .dataframe tbody tr th {\n",
       "        vertical-align: top;\n",
       "    }\n",
       "\n",
       "    .dataframe thead th {\n",
       "        text-align: right;\n",
       "    }\n",
       "</style>\n",
       "<table border=\"1\" class=\"dataframe\">\n",
       "  <thead>\n",
       "    <tr style=\"text-align: right;\">\n",
       "      <th></th>\n",
       "      <th>createdAt</th>\n",
       "      <th>claps</th>\n",
       "      <th>internalReferrerViews</th>\n",
       "      <th>primaryTopic_name</th>\n",
       "    </tr>\n",
       "  </thead>\n",
       "  <tbody>\n",
       "    <tr>\n",
       "      <th>0</th>\n",
       "      <td>2022-01-10 12:50:48.355</td>\n",
       "      <td>201</td>\n",
       "      <td>20</td>\n",
       "      <td>NaN</td>\n",
       "    </tr>\n",
       "    <tr>\n",
       "      <th>1</th>\n",
       "      <td>2021-12-23 13:13:23.249</td>\n",
       "      <td>200</td>\n",
       "      <td>17</td>\n",
       "      <td>NaN</td>\n",
       "    </tr>\n",
       "  </tbody>\n",
       "</table>\n",
       "</div>"
      ],
      "text/plain": [
       "                createdAt  claps  internalReferrerViews primaryTopic_name\n",
       "0 2022-01-10 12:50:48.355    201                     20               NaN\n",
       "1 2021-12-23 13:13:23.249    200                     17               NaN"
      ]
     },
     "execution_count": 623,
     "metadata": {},
     "output_type": "execute_result"
    }
   ],
   "source": [
    "df_rawhtml.head(2)"
   ]
  },
  {
   "cell_type": "code",
   "execution_count": 624,
   "metadata": {},
   "outputs": [],
   "source": [
    "#Merging the two dataframes, df_selenium and df_rawhtml joining with the title \n",
    "df_stats  = pd.concat([df_selenium, df_rawhtml], axis=1, join=\"inner\")"
   ]
  },
  {
   "cell_type": "code",
   "execution_count": 684,
   "metadata": {},
   "outputs": [],
   "source": [
    "from datetime import datetime\n",
    "df_stats['Date'] = df_stats['createdAt'].dt.date"
   ]
  },
  {
   "cell_type": "code",
   "execution_count": 685,
   "metadata": {},
   "outputs": [
    {
     "data": {
      "text/html": [
       "<div>\n",
       "<style scoped>\n",
       "    .dataframe tbody tr th:only-of-type {\n",
       "        vertical-align: middle;\n",
       "    }\n",
       "\n",
       "    .dataframe tbody tr th {\n",
       "        vertical-align: top;\n",
       "    }\n",
       "\n",
       "    .dataframe thead th {\n",
       "        text-align: right;\n",
       "    }\n",
       "</style>\n",
       "<table border=\"1\" class=\"dataframe\">\n",
       "  <thead>\n",
       "    <tr style=\"text-align: right;\">\n",
       "      <th></th>\n",
       "      <th>TitleName</th>\n",
       "      <th>PublishingName</th>\n",
       "      <th>ReadTime</th>\n",
       "      <th>Views</th>\n",
       "      <th>Reads</th>\n",
       "      <th>ReadRatio</th>\n",
       "      <th>Fans</th>\n",
       "      <th>createdAt</th>\n",
       "      <th>claps</th>\n",
       "      <th>internalReferrerViews</th>\n",
       "      <th>primaryTopic_name</th>\n",
       "      <th>FanRatio</th>\n",
       "      <th>Date</th>\n",
       "    </tr>\n",
       "  </thead>\n",
       "  <tbody>\n",
       "    <tr>\n",
       "      <th>0</th>\n",
       "      <td>Latest Updates on Google Data Analytics (Decem...</td>\n",
       "      <td>Geek Culture</td>\n",
       "      <td>4</td>\n",
       "      <td>57</td>\n",
       "      <td>22</td>\n",
       "      <td>38.596491</td>\n",
       "      <td>5</td>\n",
       "      <td>2022-01-10 12:50:48.355</td>\n",
       "      <td>201</td>\n",
       "      <td>20</td>\n",
       "      <td>NaN</td>\n",
       "      <td>8.771930</td>\n",
       "      <td>2022-01-10</td>\n",
       "    </tr>\n",
       "    <tr>\n",
       "      <th>1</th>\n",
       "      <td>The Wrangler User Interface of Cloud Data Fusion</td>\n",
       "      <td>None</td>\n",
       "      <td>5</td>\n",
       "      <td>62</td>\n",
       "      <td>37</td>\n",
       "      <td>59.677419</td>\n",
       "      <td>4</td>\n",
       "      <td>2021-12-23 13:13:23.249</td>\n",
       "      <td>200</td>\n",
       "      <td>17</td>\n",
       "      <td>NaN</td>\n",
       "      <td>6.451613</td>\n",
       "      <td>2021-12-23</td>\n",
       "    </tr>\n",
       "  </tbody>\n",
       "</table>\n",
       "</div>"
      ],
      "text/plain": [
       "                                           TitleName PublishingName  ReadTime  \\\n",
       "0  Latest Updates on Google Data Analytics (Decem...   Geek Culture         4   \n",
       "1   The Wrangler User Interface of Cloud Data Fusion           None         5   \n",
       "\n",
       "   Views  Reads  ReadRatio  Fans               createdAt  claps  \\\n",
       "0     57     22  38.596491     5 2022-01-10 12:50:48.355    201   \n",
       "1     62     37  59.677419     4 2021-12-23 13:13:23.249    200   \n",
       "\n",
       "   internalReferrerViews primaryTopic_name  FanRatio        Date  \n",
       "0                     20               NaN  8.771930  2022-01-10  \n",
       "1                     17               NaN  6.451613  2021-12-23  "
      ]
     },
     "execution_count": 685,
     "metadata": {},
     "output_type": "execute_result"
    }
   ],
   "source": [
    "df_stats.head(2)"
   ]
  },
  {
   "cell_type": "code",
   "execution_count": 339,
   "metadata": {},
   "outputs": [],
   "source": [
    "df_stats = pd.read_csv('Datadice_Medium_Stats_Modifi.csv')"
   ]
  },
  {
   "cell_type": "code",
   "execution_count": 341,
   "metadata": {},
   "outputs": [],
   "source": [
    "df1 = pd.read_csv('medium_referrals.csv')"
   ]
  },
  {
   "cell_type": "code",
   "execution_count": 342,
   "metadata": {},
   "outputs": [],
   "source": [
    "#Merging the two dataframes, df_selenium and df_rawhtml joining with the title \n",
    "df_stats  = pd.concat([df_stats, df1], axis=1, join=\"inner\")"
   ]
  },
  {
   "cell_type": "code",
   "execution_count": 350,
   "metadata": {},
   "outputs": [
    {
     "data": {
      "text/html": [
       "<div>\n",
       "<style scoped>\n",
       "    .dataframe tbody tr th:only-of-type {\n",
       "        vertical-align: middle;\n",
       "    }\n",
       "\n",
       "    .dataframe tbody tr th {\n",
       "        vertical-align: top;\n",
       "    }\n",
       "\n",
       "    .dataframe thead th {\n",
       "        text-align: right;\n",
       "    }\n",
       "</style>\n",
       "<table border=\"1\" class=\"dataframe\">\n",
       "  <thead>\n",
       "    <tr style=\"text-align: right;\">\n",
       "      <th></th>\n",
       "      <th>TitleName</th>\n",
       "      <th>PublishingName</th>\n",
       "      <th>ReadTime</th>\n",
       "      <th>Views</th>\n",
       "      <th>Reads</th>\n",
       "      <th>ReadRatio</th>\n",
       "      <th>Fans</th>\n",
       "      <th>createdAt</th>\n",
       "      <th>upvotes</th>\n",
       "      <th>claps</th>\n",
       "      <th>internalReferrerViews</th>\n",
       "      <th>primaryTopic_name</th>\n",
       "      <th>FanRatio</th>\n",
       "      <th>Emails</th>\n",
       "      <th>Google</th>\n",
       "      <th>linkedIn</th>\n",
       "      <th>email_ratio</th>\n",
       "      <th>google_ratio</th>\n",
       "      <th>linkedIn_ratio</th>\n",
       "    </tr>\n",
       "  </thead>\n",
       "  <tbody>\n",
       "    <tr>\n",
       "      <th>0</th>\n",
       "      <td>Latest Updates on Google Data Analytics (Decem...</td>\n",
       "      <td>Geek Culture</td>\n",
       "      <td>4</td>\n",
       "      <td>57</td>\n",
       "      <td>22</td>\n",
       "      <td>38.596491</td>\n",
       "      <td>5</td>\n",
       "      <td>2022-01-10 12:50:48.355</td>\n",
       "      <td>5</td>\n",
       "      <td>201</td>\n",
       "      <td>20</td>\n",
       "      <td>NaN</td>\n",
       "      <td>8.771930</td>\n",
       "      <td>34</td>\n",
       "      <td>17</td>\n",
       "      <td>3</td>\n",
       "      <td>62.962963</td>\n",
       "      <td>31.481481</td>\n",
       "      <td>5.555556</td>\n",
       "    </tr>\n",
       "    <tr>\n",
       "      <th>1</th>\n",
       "      <td>The Wrangler User Interface of Cloud Data Fusion</td>\n",
       "      <td>NaN</td>\n",
       "      <td>5</td>\n",
       "      <td>62</td>\n",
       "      <td>37</td>\n",
       "      <td>59.677419</td>\n",
       "      <td>4</td>\n",
       "      <td>2021-12-23 13:13:23.249</td>\n",
       "      <td>4</td>\n",
       "      <td>200</td>\n",
       "      <td>17</td>\n",
       "      <td>NaN</td>\n",
       "      <td>6.451613</td>\n",
       "      <td>26</td>\n",
       "      <td>31</td>\n",
       "      <td>0</td>\n",
       "      <td>45.614035</td>\n",
       "      <td>54.385965</td>\n",
       "      <td>0.000000</td>\n",
       "    </tr>\n",
       "    <tr>\n",
       "      <th>2</th>\n",
       "      <td>Latest Updates on Google Data Analytics (Novem...</td>\n",
       "      <td>Geek Culture</td>\n",
       "      <td>4</td>\n",
       "      <td>195</td>\n",
       "      <td>89</td>\n",
       "      <td>45.641026</td>\n",
       "      <td>4</td>\n",
       "      <td>2021-12-01 09:56:11.190</td>\n",
       "      <td>4</td>\n",
       "      <td>200</td>\n",
       "      <td>54</td>\n",
       "      <td>NaN</td>\n",
       "      <td>2.051282</td>\n",
       "      <td>60</td>\n",
       "      <td>43</td>\n",
       "      <td>5</td>\n",
       "      <td>55.555556</td>\n",
       "      <td>39.814815</td>\n",
       "      <td>4.629630</td>\n",
       "    </tr>\n",
       "    <tr>\n",
       "      <th>3</th>\n",
       "      <td>New Data Studio feature: New navigation</td>\n",
       "      <td>NaN</td>\n",
       "      <td>4</td>\n",
       "      <td>197</td>\n",
       "      <td>83</td>\n",
       "      <td>42.131980</td>\n",
       "      <td>5</td>\n",
       "      <td>2021-11-17 08:48:59.825</td>\n",
       "      <td>5</td>\n",
       "      <td>153</td>\n",
       "      <td>103</td>\n",
       "      <td>Data Science</td>\n",
       "      <td>2.538071</td>\n",
       "      <td>21</td>\n",
       "      <td>28</td>\n",
       "      <td>0</td>\n",
       "      <td>42.857143</td>\n",
       "      <td>57.142857</td>\n",
       "      <td>0.000000</td>\n",
       "    </tr>\n",
       "    <tr>\n",
       "      <th>4</th>\n",
       "      <td>Introduction to Cloud Data Fusion</td>\n",
       "      <td>NaN</td>\n",
       "      <td>7</td>\n",
       "      <td>228</td>\n",
       "      <td>82</td>\n",
       "      <td>35.964912</td>\n",
       "      <td>3</td>\n",
       "      <td>2021-11-11 12:24:51.241</td>\n",
       "      <td>3</td>\n",
       "      <td>150</td>\n",
       "      <td>136</td>\n",
       "      <td>Programming</td>\n",
       "      <td>1.315789</td>\n",
       "      <td>38</td>\n",
       "      <td>16</td>\n",
       "      <td>20</td>\n",
       "      <td>51.351351</td>\n",
       "      <td>21.621622</td>\n",
       "      <td>27.027027</td>\n",
       "    </tr>\n",
       "  </tbody>\n",
       "</table>\n",
       "</div>"
      ],
      "text/plain": [
       "                                           TitleName PublishingName  ReadTime  \\\n",
       "0  Latest Updates on Google Data Analytics (Decem...   Geek Culture         4   \n",
       "1   The Wrangler User Interface of Cloud Data Fusion            NaN         5   \n",
       "2  Latest Updates on Google Data Analytics (Novem...   Geek Culture         4   \n",
       "3            New Data Studio feature: New navigation            NaN         4   \n",
       "4                  Introduction to Cloud Data Fusion            NaN         7   \n",
       "\n",
       "   Views  Reads  ReadRatio  Fans                createdAt  upvotes  claps  \\\n",
       "0     57     22  38.596491     5  2022-01-10 12:50:48.355        5    201   \n",
       "1     62     37  59.677419     4  2021-12-23 13:13:23.249        4    200   \n",
       "2    195     89  45.641026     4  2021-12-01 09:56:11.190        4    200   \n",
       "3    197     83  42.131980     5  2021-11-17 08:48:59.825        5    153   \n",
       "4    228     82  35.964912     3  2021-11-11 12:24:51.241        3    150   \n",
       "\n",
       "   internalReferrerViews primaryTopic_name  FanRatio  Emails  Google  \\\n",
       "0                     20               NaN  8.771930      34      17   \n",
       "1                     17               NaN  6.451613      26      31   \n",
       "2                     54               NaN  2.051282      60      43   \n",
       "3                    103      Data Science  2.538071      21      28   \n",
       "4                    136       Programming  1.315789      38      16   \n",
       "\n",
       "   linkedIn  email_ratio  google_ratio  linkedIn_ratio  \n",
       "0         3    62.962963     31.481481        5.555556  \n",
       "1         0    45.614035     54.385965        0.000000  \n",
       "2         5    55.555556     39.814815        4.629630  \n",
       "3         0    42.857143     57.142857        0.000000  \n",
       "4        20    51.351351     21.621622       27.027027  "
      ]
     },
     "execution_count": 350,
     "metadata": {},
     "output_type": "execute_result"
    }
   ],
   "source": [
    "df_stats.head()"
   ]
  },
  {
   "cell_type": "code",
   "execution_count": 327,
   "metadata": {},
   "outputs": [],
   "source": [
    "# Export as csv\n",
    "df_stats.to_csv('Datadice_Medium_Stats_Final.csv', index=False)"
   ]
  },
  {
   "cell_type": "markdown",
   "metadata": {},
   "source": [
    "."
   ]
  },
  {
   "cell_type": "markdown",
   "metadata": {},
   "source": [
    "\n",
    "\n",
    "\n",
    "\n",
    "\n",
    "\n",
    "\n",
    "## Medium Stats Data Analysis\n"
   ]
  },
  {
   "cell_type": "markdown",
   "metadata": {},
   "source": [
    "### Exploratory Data Analysis\n",
    "\n",
    "\n",
    "#### Various visualization use cases \n",
    "\n",
    "1. Top 5 performers by Views,ReadRatio, Fans\n",
    "2. Distribution of fans per post\n",
    "3. Read time vs. read ratio\n",
    "4. Feature engineering new metrics example read-fan ratio\n",
    "5. Total posts on each publishing channels\n",
    "6. Yearly count of stories\n",
    "7. Number of Posts published in the year 2021\n",
    "8. Relationship between Fan Ratio and Read Ratio\n",
    "9. calulatiing the Pearson coefficient and p value) to find the relationship between rread ratio and fan ratio metric\n",
    "10. Count of claps per story scores\n",
    "11. The stories that received the highest number of claps in a day\n",
    "12. Claps distribution during the year 2021\n",
    "13. Top primary topic\n",
    "14. Top 5 stories which are internally referred\n",
    "15. Scatter plot of reading time and claps\n",
    "16. Correlations between all the columns\n",
    "17. Pie chart of overall external views\n",
    "18. Top 5 stories which are externally referred through Email/ IM and direct\n",
    "19. Top 5 stories which are externally referred through Google\n",
    "20. Top 5 stories which are externally referred through LinkedIn\n",
    "\n"
   ]
  },
  {
   "cell_type": "code",
   "execution_count": 256,
   "metadata": {},
   "outputs": [],
   "source": [
    "# Imports\n",
    "import pandas as pd \n",
    "import numpy as np\n",
    "import matplotlib.pyplot as plt\n",
    "import seaborn as sns\n",
    "%matplotlib inline\n",
    "sns.set_style('whitegrid')\n",
    "sns.set_palette('coolwarm')"
   ]
  },
  {
   "cell_type": "markdown",
   "metadata": {},
   "source": [
    "."
   ]
  },
  {
   "cell_type": "markdown",
   "metadata": {},
   "source": [
    "### Top 5 performers by Views\n",
    "\n",
    "The top 5 medium stories that hold the most amount of views, as we can see that 'The best BigQuery SQL cheat sheet for beginners' looks like did the best with more than 5000 total views till date "
   ]
  },
  {
   "cell_type": "code",
   "execution_count": 627,
   "metadata": {},
   "outputs": [
    {
     "name": "stderr",
     "output_type": "stream",
     "text": [
      "/Users/deborahmenezes/homebrew/lib/python3.9/site-packages/seaborn/_decorators.py:36: FutureWarning:\n",
      "\n",
      "Pass the following variables as keyword args: x, y. From version 0.12, the only valid positional argument will be `data`, and passing other arguments without an explicit keyword will result in an error or misinterpretation.\n",
      "\n"
     ]
    },
    {
     "data": {
      "image/png": "[encoded data removed]",
      "text/plain": [
       "<Figure size 720x360 with 1 Axes>"
      ]
     },
     "metadata": {},
     "output_type": "display_data"
    }
   ],
   "source": [
    "# Visualization of Top 5 performers by Views\n",
    "plt.figure(figsize=(10,5))\n",
    "temp = df_stats.sort_values(by='Views', ascending=False).head(5)\n",
    "g = sns.barplot('Views', 'TitleName', data=temp, palette='coolwarm');\n",
    "plt.ylabel('');"
   ]
  },
  {
   "cell_type": "markdown",
   "metadata": {},
   "source": [
    "."
   ]
  },
  {
   "cell_type": "markdown",
   "metadata": {},
   "source": [
    "### Top read ratios\n",
    "\n",
    "\n",
    "\n",
    "Read Ratio adjusts for the number of views, eliminating the bias that previously influenced Reads.\n",
    "Read Ratio is comparable among most types of posts, no matter the context or popularity.\n",
    "Read Ratio is a more meaningful twist on the traditional Reads count. Furthermore, it can still be easily understood as the percentage of viewers who stuck around and read the post\n",
    "\n",
    "From the analysis we see the top performing topics for the readers are 'Third-party charts for Google data studio'\n",
    "and 'Limitations of Google Data Studio'.\n",
    "So Data Studio is the topic that keeps readers engaged."
   ]
  },
  {
   "cell_type": "code",
   "execution_count": 628,
   "metadata": {},
   "outputs": [
    {
     "name": "stderr",
     "output_type": "stream",
     "text": [
      "/Users/deborahmenezes/homebrew/lib/python3.9/site-packages/seaborn/_decorators.py:36: FutureWarning:\n",
      "\n",
      "Pass the following variables as keyword args: x, y. From version 0.12, the only valid positional argument will be `data`, and passing other arguments without an explicit keyword will result in an error or misinterpretation.\n",
      "\n"
     ]
    },
    {
     "data": {
      "image/png": "[encoded data removed]",
      "text/plain": [
       "<Figure size 720x360 with 1 Axes>"
      ]
     },
     "metadata": {},
     "output_type": "display_data"
    }
   ],
   "source": [
    "# Top read ratios\n",
    "plt.figure(figsize=(10,5))\n",
    "temp = df_stats.sort_values(by='ReadRatio', ascending=False).head(5)\n",
    "g = sns.barplot('ReadRatio', 'TitleName', data=temp, palette='coolwarm');\n",
    "plt.ylabel('');"
   ]
  },
  {
   "cell_type": "markdown",
   "metadata": {},
   "source": [
    "."
   ]
  },
  {
   "cell_type": "markdown",
   "metadata": {},
   "source": [
    "### Top 5 performers by Fans\n",
    "\n",
    "The top 5 medium stories that hold the most amount of fanbase, belongs to the very same one whhich holds the most number of views, which is 'The best BigQuery SQL cheat sheet for beginners' looks like did the best with more than 5000 total views till date. We can say that that is a significant corelation with the number of views and the fanbase as well."
   ]
  },
  {
   "cell_type": "code",
   "execution_count": 629,
   "metadata": {},
   "outputs": [
    {
     "name": "stderr",
     "output_type": "stream",
     "text": [
      "/Users/deborahmenezes/homebrew/lib/python3.9/site-packages/seaborn/_decorators.py:36: FutureWarning:\n",
      "\n",
      "Pass the following variables as keyword args: x, y. From version 0.12, the only valid positional argument will be `data`, and passing other arguments without an explicit keyword will result in an error or misinterpretation.\n",
      "\n"
     ]
    },
    {
     "data": {
      "image/png": "[encoded data removed]",
      "text/plain": [
       "<Figure size 720x360 with 1 Axes>"
      ]
     },
     "metadata": {},
     "output_type": "display_data"
    }
   ],
   "source": [
    "# Top 5 performers by Fans\n",
    "plt.figure(figsize=(10,5))\n",
    "temp = df_stats.sort_values(by='Fans', ascending=False).head()\n",
    "g = sns.barplot('Fans', 'TitleName', data=temp, palette='coolwarm');\n",
    "plt.ylabel('');"
   ]
  },
  {
   "cell_type": "markdown",
   "metadata": {},
   "source": [
    "."
   ]
  },
  {
   "cell_type": "markdown",
   "metadata": {},
   "source": [
    "### Distribution of Fans per post\n",
    "\n",
    "This confirms about the top two posts significantly outperforming the others from a Fans perspective. We see that my top two performing posts alone make up over 70% of my total views, even with ~30 stories. "
   ]
  },
  {
   "cell_type": "code",
   "execution_count": 630,
   "metadata": {},
   "outputs": [
    {
     "name": "stderr",
     "output_type": "stream",
     "text": [
      "/Users/deborahmenezes/homebrew/lib/python3.9/site-packages/seaborn/distributions.py:2619: FutureWarning:\n",
      "\n",
      "`distplot` is a deprecated function and will be removed in a future version. Please adapt your code to use either `displot` (a figure-level function with similar flexibility) or `histplot` (an axes-level function for histograms).\n",
      "\n"
     ]
    },
    {
     "data": {
      "image/png": "[encoded data removed]",
      "text/plain": [
       "<Figure size 720x360 with 1 Axes>"
      ]
     },
     "metadata": {},
     "output_type": "display_data"
    }
   ],
   "source": [
    "# Distribution of Fans per post\n",
    "plt.figure(figsize=(10,5))\n",
    "sns.distplot(df_stats['Fans'], bins=12);"
   ]
  },
  {
   "cell_type": "markdown",
   "metadata": {},
   "source": [
    "."
   ]
  },
  {
   "cell_type": "markdown",
   "metadata": {},
   "source": [
    "###  Distribution of Fans per post\n",
    "\n",
    "There appears to be a clear trend here. The shorter the post, the more likely a reader is to read it. This is intuitive, but nice to see that the data backs it up. What would be interesting to check out here is if longer posts are more likely to convert to fans? This would create a trade-off between engagement and value proposition. "
   ]
  },
  {
   "cell_type": "code",
   "execution_count": 631,
   "metadata": {},
   "outputs": [
    {
     "data": {
      "text/plain": [
       "<AxesSubplot:xlabel='ReadTime', ylabel='ReadRatio'>"
      ]
     },
     "execution_count": 631,
     "metadata": {},
     "output_type": "execute_result"
    },
    {
     "data": {
      "image/png": "[encoded data removed]",
      "text/plain": [
       "<Figure size 720x720 with 1 Axes>"
      ]
     },
     "metadata": {},
     "output_type": "display_data"
    }
   ],
   "source": [
    "# Read time vs. read ratio\n",
    "plt.figure(figsize=(10,10))\n",
    "sns.barplot(x='ReadTime', y='ReadRatio', data=df_stats)"
   ]
  },
  {
   "cell_type": "markdown",
   "metadata": {},
   "source": [
    "."
   ]
  },
  {
   "cell_type": "markdown",
   "metadata": {},
   "source": [
    "### Creating a feature called FanRatio\n",
    "\n",
    "We already looked into Read Ratio metric above but by Read Ratio alone, you are simply seeing how engaging \n",
    "your post is, not necessarily how valuable it is to your readers, or how much they enjoyed it.\n",
    "You can litter buzzwords and infographics throughout your post, but chances are that readers didn't find it particularly special.\n",
    "\n",
    "So how do we judge how much readers enjoyed your post using what we have? With the data I have, \n",
    "I suggest Fans Ratio. This is simply calculated with Fans/Reads and I believe it will much more effectively \n",
    "describe how well recieved a given post is."
   ]
  },
  {
   "cell_type": "markdown",
   "metadata": {},
   "source": [
    "."
   ]
  },
  {
   "cell_type": "code",
   "execution_count": 286,
   "metadata": {},
   "outputs": [
    {
     "data": {
      "text/html": [
       "<div>\n",
       "<style scoped>\n",
       "    .dataframe tbody tr th:only-of-type {\n",
       "        vertical-align: middle;\n",
       "    }\n",
       "\n",
       "    .dataframe tbody tr th {\n",
       "        vertical-align: top;\n",
       "    }\n",
       "\n",
       "    .dataframe thead th {\n",
       "        text-align: right;\n",
       "    }\n",
       "</style>\n",
       "<table border=\"1\" class=\"dataframe\">\n",
       "  <thead>\n",
       "    <tr style=\"text-align: right;\">\n",
       "      <th></th>\n",
       "      <th>TitleName</th>\n",
       "      <th>PublishingName</th>\n",
       "      <th>Views</th>\n",
       "      <th>Fans</th>\n",
       "      <th>FanRatio</th>\n",
       "    </tr>\n",
       "  </thead>\n",
       "  <tbody>\n",
       "    <tr>\n",
       "      <th>39</th>\n",
       "      <td>Einführung in den neuen Vorschaumodus des Goog...</td>\n",
       "      <td>Data School</td>\n",
       "      <td>75</td>\n",
       "      <td>7</td>\n",
       "      <td>9.333333</td>\n",
       "    </tr>\n",
       "    <tr>\n",
       "      <th>0</th>\n",
       "      <td>Latest Updates on Google Data Analytics (Decem...</td>\n",
       "      <td>Geek Culture</td>\n",
       "      <td>57</td>\n",
       "      <td>5</td>\n",
       "      <td>8.771930</td>\n",
       "    </tr>\n",
       "    <tr>\n",
       "      <th>34</th>\n",
       "      <td>Gute Gründe, warum wir einen Udemy Kurs machen</td>\n",
       "      <td>Data School</td>\n",
       "      <td>75</td>\n",
       "      <td>5</td>\n",
       "      <td>6.666667</td>\n",
       "    </tr>\n",
       "    <tr>\n",
       "      <th>1</th>\n",
       "      <td>The Wrangler User Interface of Cloud Data Fusion</td>\n",
       "      <td>NaN</td>\n",
       "      <td>62</td>\n",
       "      <td>4</td>\n",
       "      <td>6.451613</td>\n",
       "    </tr>\n",
       "    <tr>\n",
       "      <th>32</th>\n",
       "      <td>4 tricks I will use next time in Data Studio</td>\n",
       "      <td>Data School</td>\n",
       "      <td>137</td>\n",
       "      <td>8</td>\n",
       "      <td>5.839416</td>\n",
       "    </tr>\n",
       "    <tr>\n",
       "      <th>8</th>\n",
       "      <td>Missing features in Data Studio</td>\n",
       "      <td>Data School</td>\n",
       "      <td>240</td>\n",
       "      <td>11</td>\n",
       "      <td>4.583333</td>\n",
       "    </tr>\n",
       "    <tr>\n",
       "      <th>16</th>\n",
       "      <td>Arranging elements in Data Studio</td>\n",
       "      <td>Data School</td>\n",
       "      <td>131</td>\n",
       "      <td>6</td>\n",
       "      <td>4.580153</td>\n",
       "    </tr>\n",
       "    <tr>\n",
       "      <th>35</th>\n",
       "      <td>5 BigQuery Tricks, die ich das nächste Mal anw...</td>\n",
       "      <td>Data School</td>\n",
       "      <td>143</td>\n",
       "      <td>6</td>\n",
       "      <td>4.195804</td>\n",
       "    </tr>\n",
       "    <tr>\n",
       "      <th>25</th>\n",
       "      <td>Latest Updates on Google Data Analytics (May 2...</td>\n",
       "      <td>Geek Culture</td>\n",
       "      <td>231</td>\n",
       "      <td>8</td>\n",
       "      <td>3.463203</td>\n",
       "    </tr>\n",
       "    <tr>\n",
       "      <th>12</th>\n",
       "      <td>Introduction to Cloud Dataprep</td>\n",
       "      <td>Data School</td>\n",
       "      <td>270</td>\n",
       "      <td>9</td>\n",
       "      <td>3.333333</td>\n",
       "    </tr>\n",
       "  </tbody>\n",
       "</table>\n",
       "</div>"
      ],
      "text/plain": [
       "                                            TitleName PublishingName  Views  \\\n",
       "39  Einführung in den neuen Vorschaumodus des Goog...    Data School     75   \n",
       "0   Latest Updates on Google Data Analytics (Decem...   Geek Culture     57   \n",
       "34     Gute Gründe, warum wir einen Udemy Kurs machen    Data School     75   \n",
       "1    The Wrangler User Interface of Cloud Data Fusion            NaN     62   \n",
       "32       4 tricks I will use next time in Data Studio    Data School    137   \n",
       "8                     Missing features in Data Studio    Data School    240   \n",
       "16                  Arranging elements in Data Studio    Data School    131   \n",
       "35  5 BigQuery Tricks, die ich das nächste Mal anw...    Data School    143   \n",
       "25  Latest Updates on Google Data Analytics (May 2...   Geek Culture    231   \n",
       "12                     Introduction to Cloud Dataprep    Data School    270   \n",
       "\n",
       "    Fans  FanRatio  \n",
       "39     7  9.333333  \n",
       "0      5  8.771930  \n",
       "34     5  6.666667  \n",
       "1      4  6.451613  \n",
       "32     8  5.839416  \n",
       "8     11  4.583333  \n",
       "16     6  4.580153  \n",
       "35     6  4.195804  \n",
       "25     8  3.463203  \n",
       "12     9  3.333333  "
      ]
     },
     "execution_count": 286,
     "metadata": {},
     "output_type": "execute_result"
    }
   ],
   "source": [
    "# Create feature\n",
    "df_stats['FanRatio'] = (df_stats['Fans'] / df_stats['Views']) * 100\n",
    "data = df_stats[['TitleName','PublishingName','Views','Fans', 'FanRatio']]\n",
    "data.sort_values('FanRatio', ascending=False).head(10)"
   ]
  },
  {
   "cell_type": "markdown",
   "metadata": {},
   "source": [
    "."
   ]
  },
  {
   "cell_type": "markdown",
   "metadata": {},
   "source": [
    "Through feature extraction of a new column named 'FanRatio', It looks like that the topic of the stories are getting more readers because the ratio is spread across different publishing places such as Data School and Geek Culture. But could it be the case of simple bias? Even though a story got the most views, the fanbase is small ( is the story keeping the user engaged?)"
   ]
  },
  {
   "cell_type": "markdown",
   "metadata": {},
   "source": [
    "."
   ]
  },
  {
   "cell_type": "code",
   "execution_count": 634,
   "metadata": {},
   "outputs": [
    {
     "name": "stderr",
     "output_type": "stream",
     "text": [
      "/Users/deborahmenezes/homebrew/lib/python3.9/site-packages/seaborn/_decorators.py:36: FutureWarning:\n",
      "\n",
      "Pass the following variables as keyword args: x, y. From version 0.12, the only valid positional argument will be `data`, and passing other arguments without an explicit keyword will result in an error or misinterpretation.\n",
      "\n"
     ]
    },
    {
     "data": {
      "image/png": "[encoded data removed]",
      "text/plain": [
       "<Figure size 720x360 with 1 Axes>"
      ]
     },
     "metadata": {},
     "output_type": "display_data"
    }
   ],
   "source": [
    "# Visualization\n",
    "plt.figure(figsize=(10,5))\n",
    "temp = df_stats.sort_values(by='FanRatio', ascending=False).head(5)\n",
    "g = sns.barplot('FanRatio', 'TitleName', data=temp, palette='coolwarm');\n",
    "plt.ylabel('');"
   ]
  },
  {
   "cell_type": "markdown",
   "metadata": {},
   "source": [
    "."
   ]
  },
  {
   "cell_type": "code",
   "execution_count": 635,
   "metadata": {},
   "outputs": [
    {
     "name": "stdout",
     "output_type": "stream",
     "text": [
      "PublishingName\n",
      "Geek Culture    3.063734\n",
      "Data School     2.675524\n",
      "Name: FanRatio, dtype: float64\n"
     ]
    }
   ],
   "source": [
    "# Group by publication\n",
    "temp = df_stats.groupby('PublishingName').mean()['FanRatio']\n",
    "temp = temp.sort_values(ascending=False)\n",
    "print(temp)"
   ]
  },
  {
   "cell_type": "code",
   "execution_count": 636,
   "metadata": {},
   "outputs": [
    {
     "data": {
      "image/png": "[encoded data removed]",
      "text/plain": [
       "<Figure size 360x360 with 1 Axes>"
      ]
     },
     "metadata": {},
     "output_type": "display_data"
    }
   ],
   "source": [
    "# Visualize publications effect on FanRatio\n",
    "plt.figure(figsize=(5,5))\n",
    "sns.barplot(x=temp, y=temp.index);\n",
    "plt.ylabel('');"
   ]
  },
  {
   "cell_type": "markdown",
   "metadata": {},
   "source": [
    "Looking at the mean between the two most publishing channels, we notice that the most amount of fanbase are from the Geek Culture publication"
   ]
  },
  {
   "cell_type": "markdown",
   "metadata": {},
   "source": [
    "."
   ]
  },
  {
   "cell_type": "markdown",
   "metadata": {},
   "source": [
    "### Total posts on each publishing channels\n",
    "\n",
    "A simple plot to underatnd if 'Geek Culture' has the most number of stories posted. Thats not the case though.\n",
    "We see that Data School(26) has the most number of stories posted on the channel with far more difference compared to 'Geek culture'(9). We can say that if the stories were to be published in the right channels to get higher visibility therefore higher views"
   ]
  },
  {
   "cell_type": "code",
   "execution_count": 637,
   "metadata": {},
   "outputs": [
    {
     "data": {
      "text/html": [
       "        <script type=\"text/javascript\">\n",
       "        window.PlotlyConfig = {MathJaxConfig: 'local'};\n",
       "        if (window.MathJax) {MathJax.Hub.Config({SVG: {font: \"STIX-Web\"}});}\n",
       "        if (typeof require !== 'undefined') {\n",
       "        require.undef(\"plotly\");\n",
       "        requirejs.config({\n",
       "            paths: {\n",
       "                'plotly': ['https://cdn.plot.ly/plotly-2.8.3.min']\n",
       "            }\n",
       "        });\n",
       "        require(['plotly'], function(Plotly) {\n",
       "            window._Plotly = Plotly;\n",
       "        });\n",
       "        }\n",
       "        </script>\n",
       "        "
      ]
     },
     "metadata": {},
     "output_type": "display_data"
    },
    {
     "data": {
      "application/vnd.plotly.v1+json": {
       "config": {
        "plotlyServerURL": "https://plot.ly"
       },
       "data": [
        {
         "alignmentgroup": "True",
         "bingroup": "x",
         "hovertemplate": "PublishingName=%{x}<br>count=%{y}<extra></extra>",
         "legendgroup": "",
         "marker": {
          "color": "cornflowerblue",
          "line": {
           "color": "rgb(8,48,107)",
           "width": 0.5
          },
          "pattern": {
           "shape": ""
          }
         },
         "name": "",
         "offsetgroup": "",
         "orientation": "v",
         "showlegend": false,
         "type": "histogram",
         "x": [
          "Geek Culture",
          null,
          "Geek Culture",
          null,
          null,
          "Geek Culture",
          "Geek Culture",
          null,
          "Data School",
          "Geek Culture",
          "Data School",
          "Data School",
          "Data School",
          "Data School",
          "Data School",
          "Geek Culture",
          "Data School",
          "Data School",
          "Data School",
          "Data School",
          "Geek Culture",
          "Data School",
          "Data School",
          "Data School",
          "Data School",
          "Geek Culture",
          null,
          "Data School",
          "Data School",
          "Data School",
          "Geek Culture",
          "Data School",
          "Data School",
          "Data School",
          "Data School",
          "Data School",
          "Data School",
          "Data School",
          "Data School",
          "Data School"
         ],
         "xaxis": "x",
         "yaxis": "y"
        }
       ],
       "layout": {
        "barmode": "relative",
        "legend": {
         "tracegroupgap": 0
        },
        "margin": {
         "t": 60
        },
        "template": {
         "data": {
          "bar": [
           {
            "error_x": {
             "color": "#2a3f5f"
            },
            "error_y": {
             "color": "#2a3f5f"
            },
            "marker": {
             "line": {
              "color": "#E5ECF6",
              "width": 0.5
             },
             "pattern": {
              "fillmode": "overlay",
              "size": 10,
              "solidity": 0.2
             }
            },
            "type": "bar"
           }
          ],
          "barpolar": [
           {
            "marker": {
             "line": {
              "color": "#E5ECF6",
              "width": 0.5
             },
             "pattern": {
              "fillmode": "overlay",
              "size": 10,
              "solidity": 0.2
             }
            },
            "type": "barpolar"
           }
          ],
          "carpet": [
           {
            "aaxis": {
             "endlinecolor": "#2a3f5f",
             "gridcolor": "white",
             "linecolor": "white",
             "minorgridcolor": "white",
             "startlinecolor": "#2a3f5f"
            },
            "baxis": {
             "endlinecolor": "#2a3f5f",
             "gridcolor": "white",
             "linecolor": "white",
             "minorgridcolor": "white",
             "startlinecolor": "#2a3f5f"
            },
            "type": "carpet"
           }
          ],
          "choropleth": [
           {
            "colorbar": {
             "outlinewidth": 0,
             "ticks": ""
            },
            "type": "choropleth"
           }
          ],
          "contour": [
           {
            "colorbar": {
             "outlinewidth": 0,
             "ticks": ""
            },
            "colorscale": [
             [
              0,
              "#0d0887"
             ],
             [
              0.1111111111111111,
              "#46039f"
             ],
             [
              0.2222222222222222,
              "#7201a8"
             ],
             [
              0.3333333333333333,
              "#9c179e"
             ],
             [
              0.4444444444444444,
              "#bd3786"
             ],
             [
              0.5555555555555556,
              "#d8576b"
             ],
             [
              0.6666666666666666,
              "#ed7953"
             ],
             [
              0.7777777777777778,
              "#fb9f3a"
             ],
             [
              0.8888888888888888,
              "#fdca26"
             ],
             [
              1,
              "#f0f921"
             ]
            ],
            "type": "contour"
           }
          ],
          "contourcarpet": [
           {
            "colorbar": {
             "outlinewidth": 0,
             "ticks": ""
            },
            "type": "contourcarpet"
           }
          ],
          "heatmap": [
           {
            "colorbar": {
             "outlinewidth": 0,
             "ticks": ""
            },
            "colorscale": [
             [
              0,
              "#0d0887"
             ],
             [
              0.1111111111111111,
              "#46039f"
             ],
             [
              0.2222222222222222,
              "#7201a8"
             ],
             [
              0.3333333333333333,
              "#9c179e"
             ],
             [
              0.4444444444444444,
              "#bd3786"
             ],
             [
              0.5555555555555556,
              "#d8576b"
             ],
             [
              0.6666666666666666,
              "#ed7953"
             ],
             [
              0.7777777777777778,
              "#fb9f3a"
             ],
             [
              0.8888888888888888,
              "#fdca26"
             ],
             [
              1,
              "#f0f921"
             ]
            ],
            "type": "heatmap"
           }
          ],
          "heatmapgl": [
           {
            "colorbar": {
             "outlinewidth": 0,
             "ticks": ""
            },
            "colorscale": [
             [
              0,
              "#0d0887"
             ],
             [
              0.1111111111111111,
              "#46039f"
             ],
             [
              0.2222222222222222,
              "#7201a8"
             ],
             [
              0.3333333333333333,
              "#9c179e"
             ],
             [
              0.4444444444444444,
              "#bd3786"
             ],
             [
              0.5555555555555556,
              "#d8576b"
             ],
             [
              0.6666666666666666,
              "#ed7953"
             ],
             [
              0.7777777777777778,
              "#fb9f3a"
             ],
             [
              0.8888888888888888,
              "#fdca26"
             ],
             [
              1,
              "#f0f921"
             ]
            ],
            "type": "heatmapgl"
           }
          ],
          "histogram": [
           {
            "marker": {
             "pattern": {
              "fillmode": "overlay",
              "size": 10,
              "solidity": 0.2
             }
            },
            "type": "histogram"
           }
          ],
          "histogram2d": [
           {
            "colorbar": {
             "outlinewidth": 0,
             "ticks": ""
            },
            "colorscale": [
             [
              0,
              "#0d0887"
             ],
             [
              0.1111111111111111,
              "#46039f"
             ],
             [
              0.2222222222222222,
              "#7201a8"
             ],
             [
              0.3333333333333333,
              "#9c179e"
             ],
             [
              0.4444444444444444,
              "#bd3786"
             ],
             [
              0.5555555555555556,
              "#d8576b"
             ],
             [
              0.6666666666666666,
              "#ed7953"
             ],
             [
              0.7777777777777778,
              "#fb9f3a"
             ],
             [
              0.8888888888888888,
              "#fdca26"
             ],
             [
              1,
              "#f0f921"
             ]
            ],
            "type": "histogram2d"
           }
          ],
          "histogram2dcontour": [
           {
            "colorbar": {
             "outlinewidth": 0,
             "ticks": ""
            },
            "colorscale": [
             [
              0,
              "#0d0887"
             ],
             [
              0.1111111111111111,
              "#46039f"
             ],
             [
              0.2222222222222222,
              "#7201a8"
             ],
             [
              0.3333333333333333,
              "#9c179e"
             ],
             [
              0.4444444444444444,
              "#bd3786"
             ],
             [
              0.5555555555555556,
              "#d8576b"
             ],
             [
              0.6666666666666666,
              "#ed7953"
             ],
             [
              0.7777777777777778,
              "#fb9f3a"
             ],
             [
              0.8888888888888888,
              "#fdca26"
             ],
             [
              1,
              "#f0f921"
             ]
            ],
            "type": "histogram2dcontour"
           }
          ],
          "mesh3d": [
           {
            "colorbar": {
             "outlinewidth": 0,
             "ticks": ""
            },
            "type": "mesh3d"
           }
          ],
          "parcoords": [
           {
            "line": {
             "colorbar": {
              "outlinewidth": 0,
              "ticks": ""
             }
            },
            "type": "parcoords"
           }
          ],
          "pie": [
           {
            "automargin": true,
            "type": "pie"
           }
          ],
          "scatter": [
           {
            "marker": {
             "colorbar": {
              "outlinewidth": 0,
              "ticks": ""
             }
            },
            "type": "scatter"
           }
          ],
          "scatter3d": [
           {
            "line": {
             "colorbar": {
              "outlinewidth": 0,
              "ticks": ""
             }
            },
            "marker": {
             "colorbar": {
              "outlinewidth": 0,
              "ticks": ""
             }
            },
            "type": "scatter3d"
           }
          ],
          "scattercarpet": [
           {
            "marker": {
             "colorbar": {
              "outlinewidth": 0,
              "ticks": ""
             }
            },
            "type": "scattercarpet"
           }
          ],
          "scattergeo": [
           {
            "marker": {
             "colorbar": {
              "outlinewidth": 0,
              "ticks": ""
             }
            },
            "type": "scattergeo"
           }
          ],
          "scattergl": [
           {
            "marker": {
             "colorbar": {
              "outlinewidth": 0,
              "ticks": ""
             }
            },
            "type": "scattergl"
           }
          ],
          "scattermapbox": [
           {
            "marker": {
             "colorbar": {
              "outlinewidth": 0,
              "ticks": ""
             }
            },
            "type": "scattermapbox"
           }
          ],
          "scatterpolar": [
           {
            "marker": {
             "colorbar": {
              "outlinewidth": 0,
              "ticks": ""
             }
            },
            "type": "scatterpolar"
           }
          ],
          "scatterpolargl": [
           {
            "marker": {
             "colorbar": {
              "outlinewidth": 0,
              "ticks": ""
             }
            },
            "type": "scatterpolargl"
           }
          ],
          "scatterternary": [
           {
            "marker": {
             "colorbar": {
              "outlinewidth": 0,
              "ticks": ""
             }
            },
            "type": "scatterternary"
           }
          ],
          "surface": [
           {
            "colorbar": {
             "outlinewidth": 0,
             "ticks": ""
            },
            "colorscale": [
             [
              0,
              "#0d0887"
             ],
             [
              0.1111111111111111,
              "#46039f"
             ],
             [
              0.2222222222222222,
              "#7201a8"
             ],
             [
              0.3333333333333333,
              "#9c179e"
             ],
             [
              0.4444444444444444,
              "#bd3786"
             ],
             [
              0.5555555555555556,
              "#d8576b"
             ],
             [
              0.6666666666666666,
              "#ed7953"
             ],
             [
              0.7777777777777778,
              "#fb9f3a"
             ],
             [
              0.8888888888888888,
              "#fdca26"
             ],
             [
              1,
              "#f0f921"
             ]
            ],
            "type": "surface"
           }
          ],
          "table": [
           {
            "cells": {
             "fill": {
              "color": "#EBF0F8"
             },
             "line": {
              "color": "white"
             }
            },
            "header": {
             "fill": {
              "color": "#C8D4E3"
             },
             "line": {
              "color": "white"
             }
            },
            "type": "table"
           }
          ]
         },
         "layout": {
          "annotationdefaults": {
           "arrowcolor": "#2a3f5f",
           "arrowhead": 0,
           "arrowwidth": 1
          },
          "autotypenumbers": "strict",
          "coloraxis": {
           "colorbar": {
            "outlinewidth": 0,
            "ticks": ""
           }
          },
          "colorscale": {
           "diverging": [
            [
             0,
             "#8e0152"
            ],
            [
             0.1,
             "#c51b7d"
            ],
            [
             0.2,
             "#de77ae"
            ],
            [
             0.3,
             "#f1b6da"
            ],
            [
             0.4,
             "#fde0ef"
            ],
            [
             0.5,
             "#f7f7f7"
            ],
            [
             0.6,
             "#e6f5d0"
            ],
            [
             0.7,
             "#b8e186"
            ],
            [
             0.8,
             "#7fbc41"
            ],
            [
             0.9,
             "#4d9221"
            ],
            [
             1,
             "#276419"
            ]
           ],
           "sequential": [
            [
             0,
             "#0d0887"
            ],
            [
             0.1111111111111111,
             "#46039f"
            ],
            [
             0.2222222222222222,
             "#7201a8"
            ],
            [
             0.3333333333333333,
             "#9c179e"
            ],
            [
             0.4444444444444444,
             "#bd3786"
            ],
            [
             0.5555555555555556,
             "#d8576b"
            ],
            [
             0.6666666666666666,
             "#ed7953"
            ],
            [
             0.7777777777777778,
             "#fb9f3a"
            ],
            [
             0.8888888888888888,
             "#fdca26"
            ],
            [
             1,
             "#f0f921"
            ]
           ],
           "sequentialminus": [
            [
             0,
             "#0d0887"
            ],
            [
             0.1111111111111111,
             "#46039f"
            ],
            [
             0.2222222222222222,
             "#7201a8"
            ],
            [
             0.3333333333333333,
             "#9c179e"
            ],
            [
             0.4444444444444444,
             "#bd3786"
            ],
            [
             0.5555555555555556,
             "#d8576b"
            ],
            [
             0.6666666666666666,
             "#ed7953"
            ],
            [
             0.7777777777777778,
             "#fb9f3a"
            ],
            [
             0.8888888888888888,
             "#fdca26"
            ],
            [
             1,
             "#f0f921"
            ]
           ]
          },
          "colorway": [
           "#636efa",
           "#EF553B",
           "#00cc96",
           "#ab63fa",
           "#FFA15A",
           "#19d3f3",
           "#FF6692",
           "#B6E880",
           "#FF97FF",
           "#FECB52"
          ],
          "font": {
           "color": "#2a3f5f"
          },
          "geo": {
           "bgcolor": "white",
           "lakecolor": "white",
           "landcolor": "#E5ECF6",
           "showlakes": true,
           "showland": true,
           "subunitcolor": "white"
          },
          "hoverlabel": {
           "align": "left"
          },
          "hovermode": "closest",
          "mapbox": {
           "style": "light"
          },
          "paper_bgcolor": "white",
          "plot_bgcolor": "#E5ECF6",
          "polar": {
           "angularaxis": {
            "gridcolor": "white",
            "linecolor": "white",
            "ticks": ""
           },
           "bgcolor": "#E5ECF6",
           "radialaxis": {
            "gridcolor": "white",
            "linecolor": "white",
            "ticks": ""
           }
          },
          "scene": {
           "xaxis": {
            "backgroundcolor": "#E5ECF6",
            "gridcolor": "white",
            "gridwidth": 2,
            "linecolor": "white",
            "showbackground": true,
            "ticks": "",
            "zerolinecolor": "white"
           },
           "yaxis": {
            "backgroundcolor": "#E5ECF6",
            "gridcolor": "white",
            "gridwidth": 2,
            "linecolor": "white",
            "showbackground": true,
            "ticks": "",
            "zerolinecolor": "white"
           },
           "zaxis": {
            "backgroundcolor": "#E5ECF6",
            "gridcolor": "white",
            "gridwidth": 2,
            "linecolor": "white",
            "showbackground": true,
            "ticks": "",
            "zerolinecolor": "white"
           }
          },
          "shapedefaults": {
           "line": {
            "color": "#2a3f5f"
           }
          },
          "ternary": {
           "aaxis": {
            "gridcolor": "white",
            "linecolor": "white",
            "ticks": ""
           },
           "baxis": {
            "gridcolor": "white",
            "linecolor": "white",
            "ticks": ""
           },
           "bgcolor": "#E5ECF6",
           "caxis": {
            "gridcolor": "white",
            "linecolor": "white",
            "ticks": ""
           }
          },
          "title": {
           "x": 0.05
          },
          "xaxis": {
           "automargin": true,
           "gridcolor": "white",
           "linecolor": "white",
           "ticks": "",
           "title": {
            "standoff": 15
           },
           "zerolinecolor": "white",
           "zerolinewidth": 2
          },
          "yaxis": {
           "automargin": true,
           "gridcolor": "white",
           "linecolor": "white",
           "ticks": "",
           "title": {
            "standoff": 15
           },
           "zerolinecolor": "white",
           "zerolinewidth": 2
          }
         }
        },
        "title": {
         "text": " total posts on each publishing channels"
        },
        "xaxis": {
         "anchor": "y",
         "domain": [
          0,
          1
         ],
         "title": {
          "text": "PublishingName"
         }
        },
        "yaxis": {
         "anchor": "x",
         "domain": [
          0,
          1
         ],
         "title": {
          "text": "count"
         }
        }
       }
      },
      "text/html": [
       "<div>                            <div id=\"baec42d3-7013-48d5-b4bd-04f74859058f\" class=\"plotly-graph-div\" style=\"height:525px; width:100%;\"></div>            <script type=\"text/javascript\">                require([\"plotly\"], function(Plotly) {                    window.PLOTLYENV=window.PLOTLYENV || {};                                    if (document.getElementById(\"baec42d3-7013-48d5-b4bd-04f74859058f\")) {                    Plotly.newPlot(                        \"baec42d3-7013-48d5-b4bd-04f74859058f\",                        [{\"alignmentgroup\":\"True\",\"bingroup\":\"x\",\"hovertemplate\":\"PublishingName=%{x}<br>count=%{y}<extra></extra>\",\"legendgroup\":\"\",\"marker\":{\"color\":\"cornflowerblue\",\"pattern\":{\"shape\":\"\"},\"line\":{\"color\":\"rgb(8,48,107)\",\"width\":0.5}},\"name\":\"\",\"offsetgroup\":\"\",\"orientation\":\"v\",\"showlegend\":false,\"x\":[\"Geek Culture\",null,\"Geek Culture\",null,null,\"Geek Culture\",\"Geek Culture\",null,\"Data School\",\"Geek Culture\",\"Data School\",\"Data School\",\"Data School\",\"Data School\",\"Data School\",\"Geek Culture\",\"Data School\",\"Data School\",\"Data School\",\"Data School\",\"Geek Culture\",\"Data School\",\"Data School\",\"Data School\",\"Data School\",\"Geek Culture\",null,\"Data School\",\"Data School\",\"Data School\",\"Geek Culture\",\"Data School\",\"Data School\",\"Data School\",\"Data School\",\"Data School\",\"Data School\",\"Data School\",\"Data School\",\"Data School\"],\"xaxis\":\"x\",\"yaxis\":\"y\",\"type\":\"histogram\"}],                        {\"template\":{\"data\":{\"bar\":[{\"error_x\":{\"color\":\"#2a3f5f\"},\"error_y\":{\"color\":\"#2a3f5f\"},\"marker\":{\"line\":{\"color\":\"#E5ECF6\",\"width\":0.5},\"pattern\":{\"fillmode\":\"overlay\",\"size\":10,\"solidity\":0.2}},\"type\":\"bar\"}],\"barpolar\":[{\"marker\":{\"line\":{\"color\":\"#E5ECF6\",\"width\":0.5},\"pattern\":{\"fillmode\":\"overlay\",\"size\":10,\"solidity\":0.2}},\"type\":\"barpolar\"}],\"carpet\":[{\"aaxis\":{\"endlinecolor\":\"#2a3f5f\",\"gridcolor\":\"white\",\"linecolor\":\"white\",\"minorgridcolor\":\"white\",\"startlinecolor\":\"#2a3f5f\"},\"baxis\":{\"endlinecolor\":\"#2a3f5f\",\"gridcolor\":\"white\",\"linecolor\":\"white\",\"minorgridcolor\":\"white\",\"startlinecolor\":\"#2a3f5f\"},\"type\":\"carpet\"}],\"choropleth\":[{\"colorbar\":{\"outlinewidth\":0,\"ticks\":\"\"},\"type\":\"choropleth\"}],\"contour\":[{\"colorbar\":{\"outlinewidth\":0,\"ticks\":\"\"},\"colorscale\":[[0.0,\"#0d0887\"],[0.1111111111111111,\"#46039f\"],[0.2222222222222222,\"#7201a8\"],[0.3333333333333333,\"#9c179e\"],[0.4444444444444444,\"#bd3786\"],[0.5555555555555556,\"#d8576b\"],[0.6666666666666666,\"#ed7953\"],[0.7777777777777778,\"#fb9f3a\"],[0.8888888888888888,\"#fdca26\"],[1.0,\"#f0f921\"]],\"type\":\"contour\"}],\"contourcarpet\":[{\"colorbar\":{\"outlinewidth\":0,\"ticks\":\"\"},\"type\":\"contourcarpet\"}],\"heatmap\":[{\"colorbar\":{\"outlinewidth\":0,\"ticks\":\"\"},\"colorscale\":[[0.0,\"#0d0887\"],[0.1111111111111111,\"#46039f\"],[0.2222222222222222,\"#7201a8\"],[0.3333333333333333,\"#9c179e\"],[0.4444444444444444,\"#bd3786\"],[0.5555555555555556,\"#d8576b\"],[0.6666666666666666,\"#ed7953\"],[0.7777777777777778,\"#fb9f3a\"],[0.8888888888888888,\"#fdca26\"],[1.0,\"#f0f921\"]],\"type\":\"heatmap\"}],\"heatmapgl\":[{\"colorbar\":{\"outlinewidth\":0,\"ticks\":\"\"},\"colorscale\":[[0.0,\"#0d0887\"],[0.1111111111111111,\"#46039f\"],[0.2222222222222222,\"#7201a8\"],[0.3333333333333333,\"#9c179e\"],[0.4444444444444444,\"#bd3786\"],[0.5555555555555556,\"#d8576b\"],[0.6666666666666666,\"#ed7953\"],[0.7777777777777778,\"#fb9f3a\"],[0.8888888888888888,\"#fdca26\"],[1.0,\"#f0f921\"]],\"type\":\"heatmapgl\"}],\"histogram\":[{\"marker\":{\"pattern\":{\"fillmode\":\"overlay\",\"size\":10,\"solidity\":0.2}},\"type\":\"histogram\"}],\"histogram2d\":[{\"colorbar\":{\"outlinewidth\":0,\"ticks\":\"\"},\"colorscale\":[[0.0,\"#0d0887\"],[0.1111111111111111,\"#46039f\"],[0.2222222222222222,\"#7201a8\"],[0.3333333333333333,\"#9c179e\"],[0.4444444444444444,\"#bd3786\"],[0.5555555555555556,\"#d8576b\"],[0.6666666666666666,\"#ed7953\"],[0.7777777777777778,\"#fb9f3a\"],[0.8888888888888888,\"#fdca26\"],[1.0,\"#f0f921\"]],\"type\":\"histogram2d\"}],\"histogram2dcontour\":[{\"colorbar\":{\"outlinewidth\":0,\"ticks\":\"\"},\"colorscale\":[[0.0,\"#0d0887\"],[0.1111111111111111,\"#46039f\"],[0.2222222222222222,\"#7201a8\"],[0.3333333333333333,\"#9c179e\"],[0.4444444444444444,\"#bd3786\"],[0.5555555555555556,\"#d8576b\"],[0.6666666666666666,\"#ed7953\"],[0.7777777777777778,\"#fb9f3a\"],[0.8888888888888888,\"#fdca26\"],[1.0,\"#f0f921\"]],\"type\":\"histogram2dcontour\"}],\"mesh3d\":[{\"colorbar\":{\"outlinewidth\":0,\"ticks\":\"\"},\"type\":\"mesh3d\"}],\"parcoords\":[{\"line\":{\"colorbar\":{\"outlinewidth\":0,\"ticks\":\"\"}},\"type\":\"parcoords\"}],\"pie\":[{\"automargin\":true,\"type\":\"pie\"}],\"scatter\":[{\"marker\":{\"colorbar\":{\"outlinewidth\":0,\"ticks\":\"\"}},\"type\":\"scatter\"}],\"scatter3d\":[{\"line\":{\"colorbar\":{\"outlinewidth\":0,\"ticks\":\"\"}},\"marker\":{\"colorbar\":{\"outlinewidth\":0,\"ticks\":\"\"}},\"type\":\"scatter3d\"}],\"scattercarpet\":[{\"marker\":{\"colorbar\":{\"outlinewidth\":0,\"ticks\":\"\"}},\"type\":\"scattercarpet\"}],\"scattergeo\":[{\"marker\":{\"colorbar\":{\"outlinewidth\":0,\"ticks\":\"\"}},\"type\":\"scattergeo\"}],\"scattergl\":[{\"marker\":{\"colorbar\":{\"outlinewidth\":0,\"ticks\":\"\"}},\"type\":\"scattergl\"}],\"scattermapbox\":[{\"marker\":{\"colorbar\":{\"outlinewidth\":0,\"ticks\":\"\"}},\"type\":\"scattermapbox\"}],\"scatterpolar\":[{\"marker\":{\"colorbar\":{\"outlinewidth\":0,\"ticks\":\"\"}},\"type\":\"scatterpolar\"}],\"scatterpolargl\":[{\"marker\":{\"colorbar\":{\"outlinewidth\":0,\"ticks\":\"\"}},\"type\":\"scatterpolargl\"}],\"scatterternary\":[{\"marker\":{\"colorbar\":{\"outlinewidth\":0,\"ticks\":\"\"}},\"type\":\"scatterternary\"}],\"surface\":[{\"colorbar\":{\"outlinewidth\":0,\"ticks\":\"\"},\"colorscale\":[[0.0,\"#0d0887\"],[0.1111111111111111,\"#46039f\"],[0.2222222222222222,\"#7201a8\"],[0.3333333333333333,\"#9c179e\"],[0.4444444444444444,\"#bd3786\"],[0.5555555555555556,\"#d8576b\"],[0.6666666666666666,\"#ed7953\"],[0.7777777777777778,\"#fb9f3a\"],[0.8888888888888888,\"#fdca26\"],[1.0,\"#f0f921\"]],\"type\":\"surface\"}],\"table\":[{\"cells\":{\"fill\":{\"color\":\"#EBF0F8\"},\"line\":{\"color\":\"white\"}},\"header\":{\"fill\":{\"color\":\"#C8D4E3\"},\"line\":{\"color\":\"white\"}},\"type\":\"table\"}]},\"layout\":{\"annotationdefaults\":{\"arrowcolor\":\"#2a3f5f\",\"arrowhead\":0,\"arrowwidth\":1},\"autotypenumbers\":\"strict\",\"coloraxis\":{\"colorbar\":{\"outlinewidth\":0,\"ticks\":\"\"}},\"colorscale\":{\"diverging\":[[0,\"#8e0152\"],[0.1,\"#c51b7d\"],[0.2,\"#de77ae\"],[0.3,\"#f1b6da\"],[0.4,\"#fde0ef\"],[0.5,\"#f7f7f7\"],[0.6,\"#e6f5d0\"],[0.7,\"#b8e186\"],[0.8,\"#7fbc41\"],[0.9,\"#4d9221\"],[1,\"#276419\"]],\"sequential\":[[0.0,\"#0d0887\"],[0.1111111111111111,\"#46039f\"],[0.2222222222222222,\"#7201a8\"],[0.3333333333333333,\"#9c179e\"],[0.4444444444444444,\"#bd3786\"],[0.5555555555555556,\"#d8576b\"],[0.6666666666666666,\"#ed7953\"],[0.7777777777777778,\"#fb9f3a\"],[0.8888888888888888,\"#fdca26\"],[1.0,\"#f0f921\"]],\"sequentialminus\":[[0.0,\"#0d0887\"],[0.1111111111111111,\"#46039f\"],[0.2222222222222222,\"#7201a8\"],[0.3333333333333333,\"#9c179e\"],[0.4444444444444444,\"#bd3786\"],[0.5555555555555556,\"#d8576b\"],[0.6666666666666666,\"#ed7953\"],[0.7777777777777778,\"#fb9f3a\"],[0.8888888888888888,\"#fdca26\"],[1.0,\"#f0f921\"]]},\"colorway\":[\"#636efa\",\"#EF553B\",\"#00cc96\",\"#ab63fa\",\"#FFA15A\",\"#19d3f3\",\"#FF6692\",\"#B6E880\",\"#FF97FF\",\"#FECB52\"],\"font\":{\"color\":\"#2a3f5f\"},\"geo\":{\"bgcolor\":\"white\",\"lakecolor\":\"white\",\"landcolor\":\"#E5ECF6\",\"showlakes\":true,\"showland\":true,\"subunitcolor\":\"white\"},\"hoverlabel\":{\"align\":\"left\"},\"hovermode\":\"closest\",\"mapbox\":{\"style\":\"light\"},\"paper_bgcolor\":\"white\",\"plot_bgcolor\":\"#E5ECF6\",\"polar\":{\"angularaxis\":{\"gridcolor\":\"white\",\"linecolor\":\"white\",\"ticks\":\"\"},\"bgcolor\":\"#E5ECF6\",\"radialaxis\":{\"gridcolor\":\"white\",\"linecolor\":\"white\",\"ticks\":\"\"}},\"scene\":{\"xaxis\":{\"backgroundcolor\":\"#E5ECF6\",\"gridcolor\":\"white\",\"gridwidth\":2,\"linecolor\":\"white\",\"showbackground\":true,\"ticks\":\"\",\"zerolinecolor\":\"white\"},\"yaxis\":{\"backgroundcolor\":\"#E5ECF6\",\"gridcolor\":\"white\",\"gridwidth\":2,\"linecolor\":\"white\",\"showbackground\":true,\"ticks\":\"\",\"zerolinecolor\":\"white\"},\"zaxis\":{\"backgroundcolor\":\"#E5ECF6\",\"gridcolor\":\"white\",\"gridwidth\":2,\"linecolor\":\"white\",\"showbackground\":true,\"ticks\":\"\",\"zerolinecolor\":\"white\"}},\"shapedefaults\":{\"line\":{\"color\":\"#2a3f5f\"}},\"ternary\":{\"aaxis\":{\"gridcolor\":\"white\",\"linecolor\":\"white\",\"ticks\":\"\"},\"baxis\":{\"gridcolor\":\"white\",\"linecolor\":\"white\",\"ticks\":\"\"},\"bgcolor\":\"#E5ECF6\",\"caxis\":{\"gridcolor\":\"white\",\"linecolor\":\"white\",\"ticks\":\"\"}},\"title\":{\"x\":0.05},\"xaxis\":{\"automargin\":true,\"gridcolor\":\"white\",\"linecolor\":\"white\",\"ticks\":\"\",\"title\":{\"standoff\":15},\"zerolinecolor\":\"white\",\"zerolinewidth\":2},\"yaxis\":{\"automargin\":true,\"gridcolor\":\"white\",\"linecolor\":\"white\",\"ticks\":\"\",\"title\":{\"standoff\":15},\"zerolinecolor\":\"white\",\"zerolinewidth\":2}}},\"xaxis\":{\"anchor\":\"y\",\"domain\":[0.0,1.0],\"title\":{\"text\":\"PublishingName\"}},\"yaxis\":{\"anchor\":\"x\",\"domain\":[0.0,1.0],\"title\":{\"text\":\"count\"}},\"legend\":{\"tracegroupgap\":0},\"margin\":{\"t\":60},\"barmode\":\"relative\",\"title\":{\"text\":\" total posts on each publishing channels\"}},                        {\"responsive\": true}                    ).then(function(){\n",
       "                            \n",
       "var gd = document.getElementById('baec42d3-7013-48d5-b4bd-04f74859058f');\n",
       "var x = new MutationObserver(function (mutations, observer) {{\n",
       "        var display = window.getComputedStyle(gd).display;\n",
       "        if (!display || display === 'none') {{\n",
       "            console.log([gd, 'removed!']);\n",
       "            Plotly.purge(gd);\n",
       "            observer.disconnect();\n",
       "        }}\n",
       "}});\n",
       "\n",
       "// Listen for the removal of the full notebook cells\n",
       "var notebookContainer = gd.closest('#notebook-container');\n",
       "if (notebookContainer) {{\n",
       "    x.observe(notebookContainer, {childList: true});\n",
       "}}\n",
       "\n",
       "// Listen for the clearing of the current output cell\n",
       "var outputEl = gd.closest('.output');\n",
       "if (outputEl) {{\n",
       "    x.observe(outputEl, {childList: true});\n",
       "}}\n",
       "\n",
       "                        })                };                });            </script>        </div>"
      ]
     },
     "metadata": {},
     "output_type": "display_data"
    }
   ],
   "source": [
    "import matplotlib.pyplot as plt\n",
    "import plotly.offline as py\n",
    "py.init_notebook_mode(connected=True)\n",
    "import plotly.graph_objs as go\n",
    "import plotly.tools as tls\n",
    "import plotly.express as px\n",
    "# PublishingName count\n",
    "fig = px.histogram(df_stats, x=\"PublishingName\")\n",
    "fig.update_traces(marker_color=\"cornflowerblue\",marker_line_color='rgb(8,48,107)',\n",
    "                  marker_line_width=0.5)\n",
    "fig.update_layout(title_text=' total posts on each publishing channels')\n",
    "fig.show()"
   ]
  },
  {
   "cell_type": "markdown",
   "metadata": {},
   "source": [
    "."
   ]
  },
  {
   "cell_type": "markdown",
   "metadata": {},
   "source": [
    "### Yearly count of stories\n",
    "\n",
    "Since the medium channel was started during the late 2020, and currently we are in the 1st month of 2022, there is clear bias of data through the years. We will be able to get a steady rate of increase of stories in the coming months to get a better understanding of the data throughout the time."
   ]
  },
  {
   "cell_type": "code",
   "execution_count": 638,
   "metadata": {},
   "outputs": [
    {
     "data": {
      "image/png": "[encoded data removed]",
      "text/plain": [
       "<Figure size 864x288 with 1 Axes>"
      ]
     },
     "metadata": {},
     "output_type": "display_data"
    }
   ],
   "source": [
    "#Yearly count of stories\n",
    "fig, axs = plt.subplots(figsize=(12, 4))\n",
    "\n",
    "df_stats[['TitleName']].groupby([df_stats['createdAt'].dt.year]).count().plot(\n",
    "    kind='bar', rot=0, ax=axs\n",
    ")\n",
    "plt.xlabel(\"YEAR\");  # custom x label using matplotlib\n",
    "\n",
    "plt.ylabel(\"Yearly count of stories\");"
   ]
  },
  {
   "cell_type": "code",
   "execution_count": 699,
   "metadata": {},
   "outputs": [
    {
     "data": {
      "text/html": [
       "<div>\n",
       "<style scoped>\n",
       "    .dataframe tbody tr th:only-of-type {\n",
       "        vertical-align: middle;\n",
       "    }\n",
       "\n",
       "    .dataframe tbody tr th {\n",
       "        vertical-align: top;\n",
       "    }\n",
       "\n",
       "    .dataframe thead th {\n",
       "        text-align: right;\n",
       "    }\n",
       "</style>\n",
       "<table border=\"1\" class=\"dataframe\">\n",
       "  <thead>\n",
       "    <tr style=\"text-align: right;\">\n",
       "      <th></th>\n",
       "      <th>TitleName</th>\n",
       "      <th>PublishingName</th>\n",
       "      <th>ReadTime</th>\n",
       "      <th>Views</th>\n",
       "      <th>Reads</th>\n",
       "      <th>ReadRatio</th>\n",
       "      <th>Fans</th>\n",
       "      <th>createdAt</th>\n",
       "      <th>claps</th>\n",
       "      <th>internalReferrerViews</th>\n",
       "      <th>primaryTopic_name</th>\n",
       "      <th>FanRatio</th>\n",
       "      <th>Date</th>\n",
       "    </tr>\n",
       "  </thead>\n",
       "  <tbody>\n",
       "    <tr>\n",
       "      <th>1</th>\n",
       "      <td>The Wrangler User Interface of Cloud Data Fusion</td>\n",
       "      <td>None</td>\n",
       "      <td>5</td>\n",
       "      <td>62</td>\n",
       "      <td>37</td>\n",
       "      <td>59.677419</td>\n",
       "      <td>4</td>\n",
       "      <td>2021-12-23 13:13:23.249</td>\n",
       "      <td>200</td>\n",
       "      <td>17</td>\n",
       "      <td>NaN</td>\n",
       "      <td>6.451613</td>\n",
       "      <td>2021-12-23</td>\n",
       "    </tr>\n",
       "    <tr>\n",
       "      <th>2</th>\n",
       "      <td>Latest Updates on Google Data Analytics (Novem...</td>\n",
       "      <td>Geek Culture</td>\n",
       "      <td>4</td>\n",
       "      <td>195</td>\n",
       "      <td>89</td>\n",
       "      <td>45.641026</td>\n",
       "      <td>4</td>\n",
       "      <td>2021-12-01 09:56:11.190</td>\n",
       "      <td>200</td>\n",
       "      <td>54</td>\n",
       "      <td>NaN</td>\n",
       "      <td>2.051282</td>\n",
       "      <td>2021-12-01</td>\n",
       "    </tr>\n",
       "  </tbody>\n",
       "</table>\n",
       "</div>"
      ],
      "text/plain": [
       "                                           TitleName PublishingName  ReadTime  \\\n",
       "1   The Wrangler User Interface of Cloud Data Fusion           None         5   \n",
       "2  Latest Updates on Google Data Analytics (Novem...   Geek Culture         4   \n",
       "\n",
       "   Views  Reads  ReadRatio  Fans               createdAt  claps  \\\n",
       "1     62     37  59.677419     4 2021-12-23 13:13:23.249    200   \n",
       "2    195     89  45.641026     4 2021-12-01 09:56:11.190    200   \n",
       "\n",
       "   internalReferrerViews primaryTopic_name  FanRatio        Date  \n",
       "1                     17               NaN  6.451613  2021-12-23  \n",
       "2                     54               NaN  2.051282  2021-12-01  "
      ]
     },
     "execution_count": 699,
     "metadata": {},
     "output_type": "execute_result"
    }
   ],
   "source": [
    "# creating a dataframe for the year 2021 from the main table\n",
    "df_stats_2021 = df_stats[df_stats.createdAt.dt.year == 2021]\n",
    "df_stats_2021.head(2)"
   ]
  },
  {
   "cell_type": "markdown",
   "metadata": {},
   "source": [
    "."
   ]
  },
  {
   "cell_type": "markdown",
   "metadata": {},
   "source": [
    "### Number of Posts published in the year 2021\n",
    "\n",
    "Now we can deep dive into the year 2021, and look at the data through the months.\n",
    "We can see that 'august' was the month were most amount of the stories were published. Second to that were months from April to July, where July being the second highest."
   ]
  },
  {
   "cell_type": "code",
   "execution_count": 640,
   "metadata": {},
   "outputs": [
    {
     "data": {
      "image/png": "[encoded data removed]",
      "text/plain": [
       "<Figure size 864x288 with 1 Axes>"
      ]
     },
     "metadata": {},
     "output_type": "display_data"
    }
   ],
   "source": [
    "#Number of Posts published in the year 2021\n",
    "fig, axs = plt.subplots(figsize=(12, 4))\n",
    "\n",
    "df_stats_2021[['TitleName']].groupby([df_stats_2021['createdAt'].dt.month]).count().plot(\n",
    "    kind='bar', rot=0, ax=axs\n",
    ")\n",
    "plt.xlabel(\"Year 2021\");  # custom x label using matplotlib\n",
    "plt.xlabel(\"Count\");\n",
    "plt.title(\"Number of Posts published in the year 2021\");"
   ]
  },
  {
   "cell_type": "markdown",
   "metadata": {},
   "source": [
    "."
   ]
  },
  {
   "cell_type": "markdown",
   "metadata": {},
   "source": [
    "###  Let's examine that trade-off and check out the relationship between Fan Ratio and Read Ratio.\n",
    "\n",
    "With a higher and positive correlation, there will be some strong evidence to suggest a relationship between Read Ratio and Fan Ratio.\n",
    "Better posts are not only engaging, but also enjoyable for the reader and more likely to receive applause"
   ]
  },
  {
   "cell_type": "code",
   "execution_count": 641,
   "metadata": {},
   "outputs": [
    {
     "data": {
      "text/plain": [
       "<seaborn.axisgrid.FacetGrid at 0x28e814220>"
      ]
     },
     "execution_count": 641,
     "metadata": {},
     "output_type": "execute_result"
    },
    {
     "data": {
      "text/plain": [
       "<Figure size 1440x1440 with 0 Axes>"
      ]
     },
     "metadata": {},
     "output_type": "display_data"
    },
    {
     "data": {
      "image/png": "[encoded data removed]",
      "text/plain": [
       "<Figure size 454.875x360 with 1 Axes>"
      ]
     },
     "metadata": {},
     "output_type": "display_data"
    }
   ],
   "source": [
    "# Fan Ratio vs. Read Ratio\n",
    "plt.figure(figsize=(20,20));\n",
    "#scatter', 'hist', 'hex', 'kde', 'reg', 'resid'\n",
    "sns.lmplot(x=\"ReadRatio\", y=\"FanRatio\", hue=\"PublishingName\", data=df_stats)"
   ]
  },
  {
   "cell_type": "markdown",
   "metadata": {},
   "source": [
    "."
   ]
  },
  {
   "cell_type": "markdown",
   "metadata": {},
   "source": [
    "\n",
    "The Pearson coefficient is a mathematical correlation coefficient representing the relationship between two variables, denoted as X and Y.\n",
    "\n",
    "P value is the calculated probability of rejecting the Null Hypothesis, that is, the probability of findind similar results as a 'positive' or 'negative' effect in an experimental study if you were to repeat it with the whole dataset."
   ]
  },
  {
   "cell_type": "code",
   "execution_count": 642,
   "metadata": {},
   "outputs": [
    {
     "data": {
      "text/plain": [
       "(-0.023110478426526776, 0.887437492116615)"
      ]
     },
     "execution_count": 642,
     "metadata": {},
     "output_type": "execute_result"
    }
   ],
   "source": [
    "# calulatiing the Pearson coefficient and p value) to find the relationship between rread ratio and fan ratio metric\n",
    "from scipy import stats\n",
    "stats.pearsonr(df_stats['ReadRatio'], df_stats['FanRatio'])"
   ]
  },
  {
   "cell_type": "markdown",
   "metadata": {},
   "source": [
    "Pearson’s  (-0.023) ( negative co relation shows thhat there is no relationship between the two ratio metrics)\n",
    "A p-value  (0.887)  (The p-value of 0.86 indicates that if there were no underlying difference)"
   ]
  },
  {
   "cell_type": "markdown",
   "metadata": {},
   "source": [
    "."
   ]
  },
  {
   "cell_type": "markdown",
   "metadata": {},
   "source": [
    "### Count of claps per story scores\n",
    "\n",
    "The highest claps are more than a 400 with the title being 'Comparison between different BI tools'"
   ]
  },
  {
   "cell_type": "code",
   "execution_count": 643,
   "metadata": {},
   "outputs": [
    {
     "name": "stderr",
     "output_type": "stream",
     "text": [
      "/Users/deborahmenezes/homebrew/lib/python3.9/site-packages/seaborn/_decorators.py:36: FutureWarning:\n",
      "\n",
      "Pass the following variables as keyword args: x, y. From version 0.12, the only valid positional argument will be `data`, and passing other arguments without an explicit keyword will result in an error or misinterpretation.\n",
      "\n"
     ]
    },
    {
     "data": {
      "image/png": "[encoded data removed]",
      "text/plain": [
       "<Figure size 720x360 with 1 Axes>"
      ]
     },
     "metadata": {},
     "output_type": "display_data"
    }
   ],
   "source": [
    "# Visualization of Count number of upvote scores of the stories\n",
    "plt.figure(figsize=(10,5))\n",
    "temp = df_stats.sort_values(by='claps', ascending=False).head(5)\n",
    "g = sns.barplot('claps', 'TitleName', data=temp, palette='coolwarm');\n",
    "plt.ylabel('');"
   ]
  },
  {
   "cell_type": "markdown",
   "metadata": {},
   "source": [
    "."
   ]
  },
  {
   "cell_type": "markdown",
   "metadata": {},
   "source": [
    "### The stories that received the highest number of claps in a day\n",
    "\n",
    "As we can see the stories like  'Lastest updates on Google Analytics (December 2021)', 'The Wrangler user Interface of cloud fusion' and 'Lastest updates on Google Analytics (November 2021)'  recieved traction i.e the highest number of claps received in a day "
   ]
  },
  {
   "cell_type": "code",
   "execution_count": 694,
   "metadata": {},
   "outputs": [
    {
     "name": "stderr",
     "output_type": "stream",
     "text": [
      "/Users/deborahmenezes/homebrew/lib/python3.9/site-packages/seaborn/_decorators.py:36: FutureWarning:\n",
      "\n",
      "Pass the following variables as keyword args: x, y. From version 0.12, the only valid positional argument will be `data`, and passing other arguments without an explicit keyword will result in an error or misinterpretation.\n",
      "\n"
     ]
    },
    {
     "data": {
      "image/png": "[encoded data removed]",
      "text/plain": [
       "<Figure size 720x360 with 1 Axes>"
      ]
     },
     "metadata": {},
     "output_type": "display_data"
    }
   ],
   "source": [
    "# Visualization of the stories that received the highest number of claps in a day\n",
    "plt.figure(figsize=(10,5))\n",
    "temp = df_stats.sort_values(by='Date', ascending=False).head(5)\n",
    "g = sns.barplot('claps', 'TitleName', data=temp, palette='coolwarm');\n",
    "plt.ylabel('');"
   ]
  },
  {
   "cell_type": "markdown",
   "metadata": {},
   "source": [
    "."
   ]
  },
  {
   "cell_type": "markdown",
   "metadata": {},
   "source": [
    "### Claps distribution\n",
    "\n",
    "I have narrowed in down to the variation in the clap distribution to find the days that received the most amount of claps "
   ]
  },
  {
   "cell_type": "code",
   "execution_count": 720,
   "metadata": {},
   "outputs": [
    {
     "data": {
      "image/png": "[encoded data removed]",
      "text/plain": [
       "<Figure size 1152x288 with 1 Axes>"
      ]
     },
     "metadata": {},
     "output_type": "display_data"
    }
   ],
   "source": [
    "# Claps distribution during the year 2021\n",
    "fig, axs = plt.subplots(figsize=(16, 4))\n",
    "\n",
    "df_stats_2021['claps'].groupby([df_stats_2021['Date']]).count().plot(\n",
    "    kind='bar', rot=100, ax=axs\n",
    ")\n",
    "plt.xlabel(\"YEAR\");  \n",
    "\n",
    "plt.ylabel(\"Clap distribution\");"
   ]
  },
  {
   "cell_type": "code",
   "execution_count": 499,
   "metadata": {},
   "outputs": [
    {
     "data": {
      "text/plain": [
       "<AxesSubplot:ylabel='claps'>"
      ]
     },
     "execution_count": 499,
     "metadata": {},
     "output_type": "execute_result"
    },
    {
     "data": {
      "image/png": "[encoded data removed]",
      "text/plain": [
       "<Figure size 576x576 with 1 Axes>"
      ]
     },
     "metadata": {},
     "output_type": "display_data"
    }
   ],
   "source": [
    "df_stats['claps'].value_counts().plot(kind='pie',figsize=(8,8), autopct='%1.1f%%')"
   ]
  },
  {
   "cell_type": "markdown",
   "metadata": {},
   "source": [
    "Pie chart doesnt give an understanding of the clap distribution, even though its visually appealing to the eyes it is not useful to get the clear picture of the data. "
   ]
  },
  {
   "cell_type": "markdown",
   "metadata": {},
   "source": [
    "### Top primary topic\n",
    "\n",
    "For this purpose, using a pie chart gives an overview of the topics being used. As seen in the figure, we can notice that the primary topic or tags being used are 'Data Science' and 'Programming'"
   ]
  },
  {
   "cell_type": "code",
   "execution_count": 724,
   "metadata": {},
   "outputs": [
    {
     "data": {
      "text/plain": [
       "<AxesSubplot:ylabel='primaryTopic_name'>"
      ]
     },
     "execution_count": 724,
     "metadata": {},
     "output_type": "execute_result"
    },
    {
     "data": {
      "image/png": "[encoded data removed]",
      "text/plain": [
       "<Figure size 576x576 with 1 Axes>"
      ]
     },
     "metadata": {},
     "output_type": "display_data"
    }
   ],
   "source": [
    "# The various tags associated with the stories\n",
    "df_stats['primaryTopic_name'].value_counts().plot(kind='pie',figsize=(8,8), autopct='%1.1f%%')"
   ]
  },
  {
   "cell_type": "markdown",
   "metadata": {},
   "source": [
    "### Top 5 stories which are internally referred\n",
    "\n",
    "Internal referral views are how many times the story has been viewed in the selected time period from within the Medium distribution, including our homepage, app, emails, and social media accounts"
   ]
  },
  {
   "cell_type": "code",
   "execution_count": 732,
   "metadata": {},
   "outputs": [
    {
     "name": "stderr",
     "output_type": "stream",
     "text": [
      "/Users/deborahmenezes/homebrew/lib/python3.9/site-packages/seaborn/_decorators.py:36: FutureWarning:\n",
      "\n",
      "Pass the following variables as keyword args: x, y. From version 0.12, the only valid positional argument will be `data`, and passing other arguments without an explicit keyword will result in an error or misinterpretation.\n",
      "\n"
     ]
    },
    {
     "data": {
      "image/png": "[encoded data removed]",
      "text/plain": [
       "<Figure size 720x360 with 1 Axes>"
      ]
     },
     "metadata": {},
     "output_type": "display_data"
    }
   ],
   "source": [
    "# Top 5 stories which are internally referred\n",
    "plt.figure(figsize=(10,5))\n",
    "temp = df_stats.sort_values(by='internalReferrerViews', ascending=False).head(5)\n",
    "g = sns.barplot( 'internalReferrerViews', 'TitleName', data=temp, palette='coolwarm');\n",
    "plt.ylabel('');"
   ]
  },
  {
   "cell_type": "markdown",
   "metadata": {},
   "source": [
    "## Scatter plot of reading time and claps\n",
    "\n",
    "We have already seen the analysis of ReadTime and claps relation. But this graph is more precise and looks decent\n"
   ]
  },
  {
   "cell_type": "code",
   "execution_count": 526,
   "metadata": {},
   "outputs": [
    {
     "data": {
      "application/vnd.plotly.v1+json": {
       "config": {
        "plotlyServerURL": "https://plot.ly"
       },
       "data": [
        {
         "hovertemplate": "ReadTime=%{x}<br>claps=%{y}<extra></extra>",
         "legendgroup": "",
         "marker": {
          "color": "#636efa",
          "symbol": "circle"
         },
         "mode": "markers",
         "name": "",
         "orientation": "v",
         "showlegend": false,
         "type": "scatter",
         "x": [
          4,
          5,
          4,
          4,
          7,
          5,
          5,
          5,
          5,
          5,
          5,
          6,
          6,
          6,
          5,
          4,
          4,
          5,
          6,
          6,
          5,
          5,
          5,
          5,
          4,
          4,
          7,
          5,
          4,
          4,
          3,
          4,
          6,
          7,
          4,
          7,
          7,
          4,
          4,
          5
         ],
         "xaxis": "x",
         "y": [
          201,
          200,
          200,
          153,
          150,
          152,
          203,
          152,
          207,
          202,
          201,
          204,
          252,
          255,
          300,
          253,
          300,
          352,
          250,
          254,
          252,
          210,
          202,
          232,
          252,
          261,
          227,
          204,
          255,
          252,
          251,
          355,
          302,
          420,
          250,
          258,
          390,
          340,
          228,
          251
         ],
         "yaxis": "y"
        }
       ],
       "layout": {
        "legend": {
         "tracegroupgap": 0
        },
        "margin": {
         "t": 60
        },
        "template": {
         "data": {
          "bar": [
           {
            "error_x": {
             "color": "#2a3f5f"
            },
            "error_y": {
             "color": "#2a3f5f"
            },
            "marker": {
             "line": {
              "color": "#E5ECF6",
              "width": 0.5
             },
             "pattern": {
              "fillmode": "overlay",
              "size": 10,
              "solidity": 0.2
             }
            },
            "type": "bar"
           }
          ],
          "barpolar": [
           {
            "marker": {
             "line": {
              "color": "#E5ECF6",
              "width": 0.5
             },
             "pattern": {
              "fillmode": "overlay",
              "size": 10,
              "solidity": 0.2
             }
            },
            "type": "barpolar"
           }
          ],
          "carpet": [
           {
            "aaxis": {
             "endlinecolor": "#2a3f5f",
             "gridcolor": "white",
             "linecolor": "white",
             "minorgridcolor": "white",
             "startlinecolor": "#2a3f5f"
            },
            "baxis": {
             "endlinecolor": "#2a3f5f",
             "gridcolor": "white",
             "linecolor": "white",
             "minorgridcolor": "white",
             "startlinecolor": "#2a3f5f"
            },
            "type": "carpet"
           }
          ],
          "choropleth": [
           {
            "colorbar": {
             "outlinewidth": 0,
             "ticks": ""
            },
            "type": "choropleth"
           }
          ],
          "contour": [
           {
            "colorbar": {
             "outlinewidth": 0,
             "ticks": ""
            },
            "colorscale": [
             [
              0,
              "#0d0887"
             ],
             [
              0.1111111111111111,
              "#46039f"
             ],
             [
              0.2222222222222222,
              "#7201a8"
             ],
             [
              0.3333333333333333,
              "#9c179e"
             ],
             [
              0.4444444444444444,
              "#bd3786"
             ],
             [
              0.5555555555555556,
              "#d8576b"
             ],
             [
              0.6666666666666666,
              "#ed7953"
             ],
             [
              0.7777777777777778,
              "#fb9f3a"
             ],
             [
              0.8888888888888888,
              "#fdca26"
             ],
             [
              1,
              "#f0f921"
             ]
            ],
            "type": "contour"
           }
          ],
          "contourcarpet": [
           {
            "colorbar": {
             "outlinewidth": 0,
             "ticks": ""
            },
            "type": "contourcarpet"
           }
          ],
          "heatmap": [
           {
            "colorbar": {
             "outlinewidth": 0,
             "ticks": ""
            },
            "colorscale": [
             [
              0,
              "#0d0887"
             ],
             [
              0.1111111111111111,
              "#46039f"
             ],
             [
              0.2222222222222222,
              "#7201a8"
             ],
             [
              0.3333333333333333,
              "#9c179e"
             ],
             [
              0.4444444444444444,
              "#bd3786"
             ],
             [
              0.5555555555555556,
              "#d8576b"
             ],
             [
              0.6666666666666666,
              "#ed7953"
             ],
             [
              0.7777777777777778,
              "#fb9f3a"
             ],
             [
              0.8888888888888888,
              "#fdca26"
             ],
             [
              1,
              "#f0f921"
             ]
            ],
            "type": "heatmap"
           }
          ],
          "heatmapgl": [
           {
            "colorbar": {
             "outlinewidth": 0,
             "ticks": ""
            },
            "colorscale": [
             [
              0,
              "#0d0887"
             ],
             [
              0.1111111111111111,
              "#46039f"
             ],
             [
              0.2222222222222222,
              "#7201a8"
             ],
             [
              0.3333333333333333,
              "#9c179e"
             ],
             [
              0.4444444444444444,
              "#bd3786"
             ],
             [
              0.5555555555555556,
              "#d8576b"
             ],
             [
              0.6666666666666666,
              "#ed7953"
             ],
             [
              0.7777777777777778,
              "#fb9f3a"
             ],
             [
              0.8888888888888888,
              "#fdca26"
             ],
             [
              1,
              "#f0f921"
             ]
            ],
            "type": "heatmapgl"
           }
          ],
          "histogram": [
           {
            "marker": {
             "pattern": {
              "fillmode": "overlay",
              "size": 10,
              "solidity": 0.2
             }
            },
            "type": "histogram"
           }
          ],
          "histogram2d": [
           {
            "colorbar": {
             "outlinewidth": 0,
             "ticks": ""
            },
            "colorscale": [
             [
              0,
              "#0d0887"
             ],
             [
              0.1111111111111111,
              "#46039f"
             ],
             [
              0.2222222222222222,
              "#7201a8"
             ],
             [
              0.3333333333333333,
              "#9c179e"
             ],
             [
              0.4444444444444444,
              "#bd3786"
             ],
             [
              0.5555555555555556,
              "#d8576b"
             ],
             [
              0.6666666666666666,
              "#ed7953"
             ],
             [
              0.7777777777777778,
              "#fb9f3a"
             ],
             [
              0.8888888888888888,
              "#fdca26"
             ],
             [
              1,
              "#f0f921"
             ]
            ],
            "type": "histogram2d"
           }
          ],
          "histogram2dcontour": [
           {
            "colorbar": {
             "outlinewidth": 0,
             "ticks": ""
            },
            "colorscale": [
             [
              0,
              "#0d0887"
             ],
             [
              0.1111111111111111,
              "#46039f"
             ],
             [
              0.2222222222222222,
              "#7201a8"
             ],
             [
              0.3333333333333333,
              "#9c179e"
             ],
             [
              0.4444444444444444,
              "#bd3786"
             ],
             [
              0.5555555555555556,
              "#d8576b"
             ],
             [
              0.6666666666666666,
              "#ed7953"
             ],
             [
              0.7777777777777778,
              "#fb9f3a"
             ],
             [
              0.8888888888888888,
              "#fdca26"
             ],
             [
              1,
              "#f0f921"
             ]
            ],
            "type": "histogram2dcontour"
           }
          ],
          "mesh3d": [
           {
            "colorbar": {
             "outlinewidth": 0,
             "ticks": ""
            },
            "type": "mesh3d"
           }
          ],
          "parcoords": [
           {
            "line": {
             "colorbar": {
              "outlinewidth": 0,
              "ticks": ""
             }
            },
            "type": "parcoords"
           }
          ],
          "pie": [
           {
            "automargin": true,
            "type": "pie"
           }
          ],
          "scatter": [
           {
            "marker": {
             "colorbar": {
              "outlinewidth": 0,
              "ticks": ""
             }
            },
            "type": "scatter"
           }
          ],
          "scatter3d": [
           {
            "line": {
             "colorbar": {
              "outlinewidth": 0,
              "ticks": ""
             }
            },
            "marker": {
             "colorbar": {
              "outlinewidth": 0,
              "ticks": ""
             }
            },
            "type": "scatter3d"
           }
          ],
          "scattercarpet": [
           {
            "marker": {
             "colorbar": {
              "outlinewidth": 0,
              "ticks": ""
             }
            },
            "type": "scattercarpet"
           }
          ],
          "scattergeo": [
           {
            "marker": {
             "colorbar": {
              "outlinewidth": 0,
              "ticks": ""
             }
            },
            "type": "scattergeo"
           }
          ],
          "scattergl": [
           {
            "marker": {
             "colorbar": {
              "outlinewidth": 0,
              "ticks": ""
             }
            },
            "type": "scattergl"
           }
          ],
          "scattermapbox": [
           {
            "marker": {
             "colorbar": {
              "outlinewidth": 0,
              "ticks": ""
             }
            },
            "type": "scattermapbox"
           }
          ],
          "scatterpolar": [
           {
            "marker": {
             "colorbar": {
              "outlinewidth": 0,
              "ticks": ""
             }
            },
            "type": "scatterpolar"
           }
          ],
          "scatterpolargl": [
           {
            "marker": {
             "colorbar": {
              "outlinewidth": 0,
              "ticks": ""
             }
            },
            "type": "scatterpolargl"
           }
          ],
          "scatterternary": [
           {
            "marker": {
             "colorbar": {
              "outlinewidth": 0,
              "ticks": ""
             }
            },
            "type": "scatterternary"
           }
          ],
          "surface": [
           {
            "colorbar": {
             "outlinewidth": 0,
             "ticks": ""
            },
            "colorscale": [
             [
              0,
              "#0d0887"
             ],
             [
              0.1111111111111111,
              "#46039f"
             ],
             [
              0.2222222222222222,
              "#7201a8"
             ],
             [
              0.3333333333333333,
              "#9c179e"
             ],
             [
              0.4444444444444444,
              "#bd3786"
             ],
             [
              0.5555555555555556,
              "#d8576b"
             ],
             [
              0.6666666666666666,
              "#ed7953"
             ],
             [
              0.7777777777777778,
              "#fb9f3a"
             ],
             [
              0.8888888888888888,
              "#fdca26"
             ],
             [
              1,
              "#f0f921"
             ]
            ],
            "type": "surface"
           }
          ],
          "table": [
           {
            "cells": {
             "fill": {
              "color": "#EBF0F8"
             },
             "line": {
              "color": "white"
             }
            },
            "header": {
             "fill": {
              "color": "#C8D4E3"
             },
             "line": {
              "color": "white"
             }
            },
            "type": "table"
           }
          ]
         },
         "layout": {
          "annotationdefaults": {
           "arrowcolor": "#2a3f5f",
           "arrowhead": 0,
           "arrowwidth": 1
          },
          "autotypenumbers": "strict",
          "coloraxis": {
           "colorbar": {
            "outlinewidth": 0,
            "ticks": ""
           }
          },
          "colorscale": {
           "diverging": [
            [
             0,
             "#8e0152"
            ],
            [
             0.1,
             "#c51b7d"
            ],
            [
             0.2,
             "#de77ae"
            ],
            [
             0.3,
             "#f1b6da"
            ],
            [
             0.4,
             "#fde0ef"
            ],
            [
             0.5,
             "#f7f7f7"
            ],
            [
             0.6,
             "#e6f5d0"
            ],
            [
             0.7,
             "#b8e186"
            ],
            [
             0.8,
             "#7fbc41"
            ],
            [
             0.9,
             "#4d9221"
            ],
            [
             1,
             "#276419"
            ]
           ],
           "sequential": [
            [
             0,
             "#0d0887"
            ],
            [
             0.1111111111111111,
             "#46039f"
            ],
            [
             0.2222222222222222,
             "#7201a8"
            ],
            [
             0.3333333333333333,
             "#9c179e"
            ],
            [
             0.4444444444444444,
             "#bd3786"
            ],
            [
             0.5555555555555556,
             "#d8576b"
            ],
            [
             0.6666666666666666,
             "#ed7953"
            ],
            [
             0.7777777777777778,
             "#fb9f3a"
            ],
            [
             0.8888888888888888,
             "#fdca26"
            ],
            [
             1,
             "#f0f921"
            ]
           ],
           "sequentialminus": [
            [
             0,
             "#0d0887"
            ],
            [
             0.1111111111111111,
             "#46039f"
            ],
            [
             0.2222222222222222,
             "#7201a8"
            ],
            [
             0.3333333333333333,
             "#9c179e"
            ],
            [
             0.4444444444444444,
             "#bd3786"
            ],
            [
             0.5555555555555556,
             "#d8576b"
            ],
            [
             0.6666666666666666,
             "#ed7953"
            ],
            [
             0.7777777777777778,
             "#fb9f3a"
            ],
            [
             0.8888888888888888,
             "#fdca26"
            ],
            [
             1,
             "#f0f921"
            ]
           ]
          },
          "colorway": [
           "#636efa",
           "#EF553B",
           "#00cc96",
           "#ab63fa",
           "#FFA15A",
           "#19d3f3",
           "#FF6692",
           "#B6E880",
           "#FF97FF",
           "#FECB52"
          ],
          "font": {
           "color": "#2a3f5f"
          },
          "geo": {
           "bgcolor": "white",
           "lakecolor": "white",
           "landcolor": "#E5ECF6",
           "showlakes": true,
           "showland": true,
           "subunitcolor": "white"
          },
          "hoverlabel": {
           "align": "left"
          },
          "hovermode": "closest",
          "mapbox": {
           "style": "light"
          },
          "paper_bgcolor": "white",
          "plot_bgcolor": "#E5ECF6",
          "polar": {
           "angularaxis": {
            "gridcolor": "white",
            "linecolor": "white",
            "ticks": ""
           },
           "bgcolor": "#E5ECF6",
           "radialaxis": {
            "gridcolor": "white",
            "linecolor": "white",
            "ticks": ""
           }
          },
          "scene": {
           "xaxis": {
            "backgroundcolor": "#E5ECF6",
            "gridcolor": "white",
            "gridwidth": 2,
            "linecolor": "white",
            "showbackground": true,
            "ticks": "",
            "zerolinecolor": "white"
           },
           "yaxis": {
            "backgroundcolor": "#E5ECF6",
            "gridcolor": "white",
            "gridwidth": 2,
            "linecolor": "white",
            "showbackground": true,
            "ticks": "",
            "zerolinecolor": "white"
           },
           "zaxis": {
            "backgroundcolor": "#E5ECF6",
            "gridcolor": "white",
            "gridwidth": 2,
            "linecolor": "white",
            "showbackground": true,
            "ticks": "",
            "zerolinecolor": "white"
           }
          },
          "shapedefaults": {
           "line": {
            "color": "#2a3f5f"
           }
          },
          "ternary": {
           "aaxis": {
            "gridcolor": "white",
            "linecolor": "white",
            "ticks": ""
           },
           "baxis": {
            "gridcolor": "white",
            "linecolor": "white",
            "ticks": ""
           },
           "bgcolor": "#E5ECF6",
           "caxis": {
            "gridcolor": "white",
            "linecolor": "white",
            "ticks": ""
           }
          },
          "title": {
           "x": 0.05
          },
          "xaxis": {
           "automargin": true,
           "gridcolor": "white",
           "linecolor": "white",
           "ticks": "",
           "title": {
            "standoff": 15
           },
           "zerolinecolor": "white",
           "zerolinewidth": 2
          },
          "yaxis": {
           "automargin": true,
           "gridcolor": "white",
           "linecolor": "white",
           "ticks": "",
           "title": {
            "standoff": 15
           },
           "zerolinecolor": "white",
           "zerolinewidth": 2
          }
         }
        },
        "xaxis": {
         "anchor": "y",
         "domain": [
          0,
          1
         ],
         "title": {
          "text": "ReadTime"
         }
        },
        "yaxis": {
         "anchor": "x",
         "domain": [
          0,
          1
         ],
         "title": {
          "text": "claps"
         }
        }
       }
      },
      "text/html": [
       "<div>                            <div id=\"1fc68a83-6f57-4a1a-a912-735a998d7cb0\" class=\"plotly-graph-div\" style=\"height:525px; width:100%;\"></div>            <script type=\"text/javascript\">                require([\"plotly\"], function(Plotly) {                    window.PLOTLYENV=window.PLOTLYENV || {};                                    if (document.getElementById(\"1fc68a83-6f57-4a1a-a912-735a998d7cb0\")) {                    Plotly.newPlot(                        \"1fc68a83-6f57-4a1a-a912-735a998d7cb0\",                        [{\"hovertemplate\":\"ReadTime=%{x}<br>claps=%{y}<extra></extra>\",\"legendgroup\":\"\",\"marker\":{\"color\":\"#636efa\",\"symbol\":\"circle\"},\"mode\":\"markers\",\"name\":\"\",\"orientation\":\"v\",\"showlegend\":false,\"x\":[4,5,4,4,7,5,5,5,5,5,5,6,6,6,5,4,4,5,6,6,5,5,5,5,4,4,7,5,4,4,3,4,6,7,4,7,7,4,4,5],\"xaxis\":\"x\",\"y\":[201,200,200,153,150,152,203,152,207,202,201,204,252,255,300,253,300,352,250,254,252,210,202,232,252,261,227,204,255,252,251,355,302,420,250,258,390,340,228,251],\"yaxis\":\"y\",\"type\":\"scatter\"}],                        {\"template\":{\"data\":{\"bar\":[{\"error_x\":{\"color\":\"#2a3f5f\"},\"error_y\":{\"color\":\"#2a3f5f\"},\"marker\":{\"line\":{\"color\":\"#E5ECF6\",\"width\":0.5},\"pattern\":{\"fillmode\":\"overlay\",\"size\":10,\"solidity\":0.2}},\"type\":\"bar\"}],\"barpolar\":[{\"marker\":{\"line\":{\"color\":\"#E5ECF6\",\"width\":0.5},\"pattern\":{\"fillmode\":\"overlay\",\"size\":10,\"solidity\":0.2}},\"type\":\"barpolar\"}],\"carpet\":[{\"aaxis\":{\"endlinecolor\":\"#2a3f5f\",\"gridcolor\":\"white\",\"linecolor\":\"white\",\"minorgridcolor\":\"white\",\"startlinecolor\":\"#2a3f5f\"},\"baxis\":{\"endlinecolor\":\"#2a3f5f\",\"gridcolor\":\"white\",\"linecolor\":\"white\",\"minorgridcolor\":\"white\",\"startlinecolor\":\"#2a3f5f\"},\"type\":\"carpet\"}],\"choropleth\":[{\"colorbar\":{\"outlinewidth\":0,\"ticks\":\"\"},\"type\":\"choropleth\"}],\"contour\":[{\"colorbar\":{\"outlinewidth\":0,\"ticks\":\"\"},\"colorscale\":[[0.0,\"#0d0887\"],[0.1111111111111111,\"#46039f\"],[0.2222222222222222,\"#7201a8\"],[0.3333333333333333,\"#9c179e\"],[0.4444444444444444,\"#bd3786\"],[0.5555555555555556,\"#d8576b\"],[0.6666666666666666,\"#ed7953\"],[0.7777777777777778,\"#fb9f3a\"],[0.8888888888888888,\"#fdca26\"],[1.0,\"#f0f921\"]],\"type\":\"contour\"}],\"contourcarpet\":[{\"colorbar\":{\"outlinewidth\":0,\"ticks\":\"\"},\"type\":\"contourcarpet\"}],\"heatmap\":[{\"colorbar\":{\"outlinewidth\":0,\"ticks\":\"\"},\"colorscale\":[[0.0,\"#0d0887\"],[0.1111111111111111,\"#46039f\"],[0.2222222222222222,\"#7201a8\"],[0.3333333333333333,\"#9c179e\"],[0.4444444444444444,\"#bd3786\"],[0.5555555555555556,\"#d8576b\"],[0.6666666666666666,\"#ed7953\"],[0.7777777777777778,\"#fb9f3a\"],[0.8888888888888888,\"#fdca26\"],[1.0,\"#f0f921\"]],\"type\":\"heatmap\"}],\"heatmapgl\":[{\"colorbar\":{\"outlinewidth\":0,\"ticks\":\"\"},\"colorscale\":[[0.0,\"#0d0887\"],[0.1111111111111111,\"#46039f\"],[0.2222222222222222,\"#7201a8\"],[0.3333333333333333,\"#9c179e\"],[0.4444444444444444,\"#bd3786\"],[0.5555555555555556,\"#d8576b\"],[0.6666666666666666,\"#ed7953\"],[0.7777777777777778,\"#fb9f3a\"],[0.8888888888888888,\"#fdca26\"],[1.0,\"#f0f921\"]],\"type\":\"heatmapgl\"}],\"histogram\":[{\"marker\":{\"pattern\":{\"fillmode\":\"overlay\",\"size\":10,\"solidity\":0.2}},\"type\":\"histogram\"}],\"histogram2d\":[{\"colorbar\":{\"outlinewidth\":0,\"ticks\":\"\"},\"colorscale\":[[0.0,\"#0d0887\"],[0.1111111111111111,\"#46039f\"],[0.2222222222222222,\"#7201a8\"],[0.3333333333333333,\"#9c179e\"],[0.4444444444444444,\"#bd3786\"],[0.5555555555555556,\"#d8576b\"],[0.6666666666666666,\"#ed7953\"],[0.7777777777777778,\"#fb9f3a\"],[0.8888888888888888,\"#fdca26\"],[1.0,\"#f0f921\"]],\"type\":\"histogram2d\"}],\"histogram2dcontour\":[{\"colorbar\":{\"outlinewidth\":0,\"ticks\":\"\"},\"colorscale\":[[0.0,\"#0d0887\"],[0.1111111111111111,\"#46039f\"],[0.2222222222222222,\"#7201a8\"],[0.3333333333333333,\"#9c179e\"],[0.4444444444444444,\"#bd3786\"],[0.5555555555555556,\"#d8576b\"],[0.6666666666666666,\"#ed7953\"],[0.7777777777777778,\"#fb9f3a\"],[0.8888888888888888,\"#fdca26\"],[1.0,\"#f0f921\"]],\"type\":\"histogram2dcontour\"}],\"mesh3d\":[{\"colorbar\":{\"outlinewidth\":0,\"ticks\":\"\"},\"type\":\"mesh3d\"}],\"parcoords\":[{\"line\":{\"colorbar\":{\"outlinewidth\":0,\"ticks\":\"\"}},\"type\":\"parcoords\"}],\"pie\":[{\"automargin\":true,\"type\":\"pie\"}],\"scatter\":[{\"marker\":{\"colorbar\":{\"outlinewidth\":0,\"ticks\":\"\"}},\"type\":\"scatter\"}],\"scatter3d\":[{\"line\":{\"colorbar\":{\"outlinewidth\":0,\"ticks\":\"\"}},\"marker\":{\"colorbar\":{\"outlinewidth\":0,\"ticks\":\"\"}},\"type\":\"scatter3d\"}],\"scattercarpet\":[{\"marker\":{\"colorbar\":{\"outlinewidth\":0,\"ticks\":\"\"}},\"type\":\"scattercarpet\"}],\"scattergeo\":[{\"marker\":{\"colorbar\":{\"outlinewidth\":0,\"ticks\":\"\"}},\"type\":\"scattergeo\"}],\"scattergl\":[{\"marker\":{\"colorbar\":{\"outlinewidth\":0,\"ticks\":\"\"}},\"type\":\"scattergl\"}],\"scattermapbox\":[{\"marker\":{\"colorbar\":{\"outlinewidth\":0,\"ticks\":\"\"}},\"type\":\"scattermapbox\"}],\"scatterpolar\":[{\"marker\":{\"colorbar\":{\"outlinewidth\":0,\"ticks\":\"\"}},\"type\":\"scatterpolar\"}],\"scatterpolargl\":[{\"marker\":{\"colorbar\":{\"outlinewidth\":0,\"ticks\":\"\"}},\"type\":\"scatterpolargl\"}],\"scatterternary\":[{\"marker\":{\"colorbar\":{\"outlinewidth\":0,\"ticks\":\"\"}},\"type\":\"scatterternary\"}],\"surface\":[{\"colorbar\":{\"outlinewidth\":0,\"ticks\":\"\"},\"colorscale\":[[0.0,\"#0d0887\"],[0.1111111111111111,\"#46039f\"],[0.2222222222222222,\"#7201a8\"],[0.3333333333333333,\"#9c179e\"],[0.4444444444444444,\"#bd3786\"],[0.5555555555555556,\"#d8576b\"],[0.6666666666666666,\"#ed7953\"],[0.7777777777777778,\"#fb9f3a\"],[0.8888888888888888,\"#fdca26\"],[1.0,\"#f0f921\"]],\"type\":\"surface\"}],\"table\":[{\"cells\":{\"fill\":{\"color\":\"#EBF0F8\"},\"line\":{\"color\":\"white\"}},\"header\":{\"fill\":{\"color\":\"#C8D4E3\"},\"line\":{\"color\":\"white\"}},\"type\":\"table\"}]},\"layout\":{\"annotationdefaults\":{\"arrowcolor\":\"#2a3f5f\",\"arrowhead\":0,\"arrowwidth\":1},\"autotypenumbers\":\"strict\",\"coloraxis\":{\"colorbar\":{\"outlinewidth\":0,\"ticks\":\"\"}},\"colorscale\":{\"diverging\":[[0,\"#8e0152\"],[0.1,\"#c51b7d\"],[0.2,\"#de77ae\"],[0.3,\"#f1b6da\"],[0.4,\"#fde0ef\"],[0.5,\"#f7f7f7\"],[0.6,\"#e6f5d0\"],[0.7,\"#b8e186\"],[0.8,\"#7fbc41\"],[0.9,\"#4d9221\"],[1,\"#276419\"]],\"sequential\":[[0.0,\"#0d0887\"],[0.1111111111111111,\"#46039f\"],[0.2222222222222222,\"#7201a8\"],[0.3333333333333333,\"#9c179e\"],[0.4444444444444444,\"#bd3786\"],[0.5555555555555556,\"#d8576b\"],[0.6666666666666666,\"#ed7953\"],[0.7777777777777778,\"#fb9f3a\"],[0.8888888888888888,\"#fdca26\"],[1.0,\"#f0f921\"]],\"sequentialminus\":[[0.0,\"#0d0887\"],[0.1111111111111111,\"#46039f\"],[0.2222222222222222,\"#7201a8\"],[0.3333333333333333,\"#9c179e\"],[0.4444444444444444,\"#bd3786\"],[0.5555555555555556,\"#d8576b\"],[0.6666666666666666,\"#ed7953\"],[0.7777777777777778,\"#fb9f3a\"],[0.8888888888888888,\"#fdca26\"],[1.0,\"#f0f921\"]]},\"colorway\":[\"#636efa\",\"#EF553B\",\"#00cc96\",\"#ab63fa\",\"#FFA15A\",\"#19d3f3\",\"#FF6692\",\"#B6E880\",\"#FF97FF\",\"#FECB52\"],\"font\":{\"color\":\"#2a3f5f\"},\"geo\":{\"bgcolor\":\"white\",\"lakecolor\":\"white\",\"landcolor\":\"#E5ECF6\",\"showlakes\":true,\"showland\":true,\"subunitcolor\":\"white\"},\"hoverlabel\":{\"align\":\"left\"},\"hovermode\":\"closest\",\"mapbox\":{\"style\":\"light\"},\"paper_bgcolor\":\"white\",\"plot_bgcolor\":\"#E5ECF6\",\"polar\":{\"angularaxis\":{\"gridcolor\":\"white\",\"linecolor\":\"white\",\"ticks\":\"\"},\"bgcolor\":\"#E5ECF6\",\"radialaxis\":{\"gridcolor\":\"white\",\"linecolor\":\"white\",\"ticks\":\"\"}},\"scene\":{\"xaxis\":{\"backgroundcolor\":\"#E5ECF6\",\"gridcolor\":\"white\",\"gridwidth\":2,\"linecolor\":\"white\",\"showbackground\":true,\"ticks\":\"\",\"zerolinecolor\":\"white\"},\"yaxis\":{\"backgroundcolor\":\"#E5ECF6\",\"gridcolor\":\"white\",\"gridwidth\":2,\"linecolor\":\"white\",\"showbackground\":true,\"ticks\":\"\",\"zerolinecolor\":\"white\"},\"zaxis\":{\"backgroundcolor\":\"#E5ECF6\",\"gridcolor\":\"white\",\"gridwidth\":2,\"linecolor\":\"white\",\"showbackground\":true,\"ticks\":\"\",\"zerolinecolor\":\"white\"}},\"shapedefaults\":{\"line\":{\"color\":\"#2a3f5f\"}},\"ternary\":{\"aaxis\":{\"gridcolor\":\"white\",\"linecolor\":\"white\",\"ticks\":\"\"},\"baxis\":{\"gridcolor\":\"white\",\"linecolor\":\"white\",\"ticks\":\"\"},\"bgcolor\":\"#E5ECF6\",\"caxis\":{\"gridcolor\":\"white\",\"linecolor\":\"white\",\"ticks\":\"\"}},\"title\":{\"x\":0.05},\"xaxis\":{\"automargin\":true,\"gridcolor\":\"white\",\"linecolor\":\"white\",\"ticks\":\"\",\"title\":{\"standoff\":15},\"zerolinecolor\":\"white\",\"zerolinewidth\":2},\"yaxis\":{\"automargin\":true,\"gridcolor\":\"white\",\"linecolor\":\"white\",\"ticks\":\"\",\"title\":{\"standoff\":15},\"zerolinecolor\":\"white\",\"zerolinewidth\":2}}},\"xaxis\":{\"anchor\":\"y\",\"domain\":[0.0,1.0],\"title\":{\"text\":\"ReadTime\"}},\"yaxis\":{\"anchor\":\"x\",\"domain\":[0.0,1.0],\"title\":{\"text\":\"claps\"}},\"legend\":{\"tracegroupgap\":0},\"margin\":{\"t\":60}},                        {\"responsive\": true}                    ).then(function(){\n",
       "                            \n",
       "var gd = document.getElementById('1fc68a83-6f57-4a1a-a912-735a998d7cb0');\n",
       "var x = new MutationObserver(function (mutations, observer) {{\n",
       "        var display = window.getComputedStyle(gd).display;\n",
       "        if (!display || display === 'none') {{\n",
       "            console.log([gd, 'removed!']);\n",
       "            Plotly.purge(gd);\n",
       "            observer.disconnect();\n",
       "        }}\n",
       "}});\n",
       "\n",
       "// Listen for the removal of the full notebook cells\n",
       "var notebookContainer = gd.closest('#notebook-container');\n",
       "if (notebookContainer) {{\n",
       "    x.observe(notebookContainer, {childList: true});\n",
       "}}\n",
       "\n",
       "// Listen for the clearing of the current output cell\n",
       "var outputEl = gd.closest('.output');\n",
       "if (outputEl) {{\n",
       "    x.observe(outputEl, {childList: true});\n",
       "}}\n",
       "\n",
       "                        })                };                });            </script>        </div>"
      ]
     },
     "metadata": {},
     "output_type": "display_data"
    }
   ],
   "source": [
    "fig5 = px.scatter(df_stats, y='claps', x='ReadTime')\n",
    "fig5.show()"
   ]
  },
  {
   "cell_type": "markdown",
   "metadata": {},
   "source": [
    "### Correlations between all the columns\n",
    "Let’s see the correlations between the columns, and check if we can find anything interesting"
   ]
  },
  {
   "cell_type": "code",
   "execution_count": 723,
   "metadata": {
    "scrolled": true
   },
   "outputs": [
    {
     "data": {
      "image/png": "[encoded data removed]",
      "text/plain": [
       "<Figure size 1008x720 with 2 Axes>"
      ]
     },
     "metadata": {},
     "output_type": "display_data"
    }
   ],
   "source": [
    "f,ax = plt.subplots(figsize=(14,10))\n",
    "sns.heatmap(df_stats.corr(),annot = True)\n",
    "plt.show()"
   ]
  },
  {
   "cell_type": "markdown",
   "metadata": {},
   "source": [
    "In my conclusion we can observe that the Fans are correlated to the number of Views. That makes sense, the value we get between the two metric should be closer to 1 to find any significant differnce. The number of Internal Referrer Views has a correlation of 0.75 with the fans column. The two highest values we can see form the graph are 0.95 (Views and reads), 0.89 ( Fans & Views ) and 0.84 ( Fans & Reads)"
   ]
  },
  {
   "cell_type": "code",
   "execution_count": 333,
   "metadata": {},
   "outputs": [],
   "source": [
    "# since the values that are scrapped is a string type, it should be converted into float.\n",
    "def convert_string_to_number(a):\n",
    "    if isinstance(a, str):\n",
    "        if 'K' in a:\n",
    "            a = a.strip('K')\n",
    "            a = int(a)\n",
    "            a = a*1000\n",
    "        else:\n",
    "            a = int(a)\n",
    "    return a\n"
   ]
  },
  {
   "cell_type": "markdown",
   "metadata": {},
   "source": [
    "## Pie chart of overall external views\n",
    "\n",
    "External traffic refers to all traffic your article receives not through Medium’s distribution channels. This can include stories shared on social media, articles found through a Google search, or accessing the article through a direct link in a writer’s newsletter.\n",
    "\n",
    "Email, IM, and direct refers to traffic not originating from Medium’s site, including email links (i.e. me, sending you an email with a link to my article), IM would be links sent through chat functions or messengers (Google Chat, Slack, etc.) and direct is someone going straight to the article, which could be someone manually entering the URL, finding the article in their history/browser suggestions, or through their page bookmarks.\n",
    "\n",
    "We can see that most of the external views are through email/IM and direct"
   ]
  },
  {
   "cell_type": "code",
   "execution_count": 345,
   "metadata": {},
   "outputs": [
    {
     "data": {
      "text/plain": [
       "<AxesSubplot:ylabel='None'>"
      ]
     },
     "execution_count": 345,
     "metadata": {},
     "output_type": "execute_result"
    },
    {
     "data": {
      "image/png": "[encoded data removed]",
      "text/plain": [
       "<Figure size 864x720 with 1 Axes>"
      ]
     },
     "metadata": {},
     "output_type": "display_data"
    }
   ],
   "source": [
    "#using the fucntion convert_string_to_number in order to convert to its respective data structre\n",
    "df_stats['Emails'] = df_stats['Emails'].apply(lambda x: convert_string_to_number(x))\n",
    "df_stats['Google'] = df_stats['Google'].apply(lambda x: convert_string_to_number(x))\n",
    "df_stats['linkedIn'] = df_stats['linkedIn'].apply(lambda x: convert_string_to_number(x))\n",
    "\n",
    "df_stats.Emails = df_stats.Emails.astype(int)\n",
    "df_stats.Google = df_stats.Google.astype(int)\n",
    "df_stats.linkedIn = df_stats.linkedIn.astype(int)\n",
    "\n",
    "#Adding the referrals to get a broader perspective\n",
    "total_referrals = sum(df_stats.Emails + df_stats.Google + df_stats.linkedIn)\n",
    "total_emails = sum(df_stats.Emails)\n",
    "total_google = sum(df_stats.Google)\n",
    "total_linkedIn = sum(df_stats.linkedIn)\n",
    "\n",
    "#Creating new features such as email_ratio to calculate the total column wise ratio etc\n",
    "email_ratio1 = total_emails/total_referrals\n",
    "google_ratio1 = total_google/total_referrals\n",
    "linkedIn_ratio1 = total_linkedIn/total_referrals\n",
    "\n",
    "#A pie chart to show the overall external views\n",
    "ratio_list = [email_ratio1, google_ratio1, linkedIn_ratio1]\n",
    "ratio_series = pd.Series(ratio_list)\n",
    "ratio_series.plot(kind='pie',figsize=(12,10), labels = ['email', 'google', 'linkedIn'], autopct='%1.1f%%')"
   ]
  },
  {
   "cell_type": "code",
   "execution_count": 346,
   "metadata": {},
   "outputs": [],
   "source": [
    "#Creating new features such as email_ratio to calculate the total row wise ratio etc\n",
    "df_stats['email_ratio'] = df_stats.apply(lambda row: row.Emails*100/(row.Emails + row.Google + row.linkedIn), axis=1)\n",
    "df_stats['google_ratio'] = df_stats.apply(lambda row: row.Google*100/(row.Emails + row.Google + row.linkedIn), axis=1)\n",
    "df_stats['linkedIn_ratio'] = df_stats.apply(lambda row: row.linkedIn*100/(row.Emails + row.Google + row.linkedIn), axis=1)\n",
    "\n",
    "#individually taking all the top articles in order to plot and find the best articles\n",
    "top_google_articles = df_stats.sort_values(by='google_ratio', ascending=False).head(5)\n",
    "top_email_articles = df_stats.sort_values(by='email_ratio', ascending=False).head(5)\n",
    "top_linkedIn_articles = df_stats.sort_values(by='linkedIn_ratio', ascending=False).head(5)\n",
    "\n"
   ]
  },
  {
   "cell_type": "markdown",
   "metadata": {},
   "source": [
    "##  Top 5 stories which are externally referred through Email/ IM and direct"
   ]
  },
  {
   "cell_type": "code",
   "execution_count": 347,
   "metadata": {},
   "outputs": [
    {
     "name": "stderr",
     "output_type": "stream",
     "text": [
      "/Library/Frameworks/Python.framework/Versions/3.10/lib/python3.10/site-packages/seaborn/_decorators.py:36: FutureWarning: Pass the following variables as keyword args: x, y. From version 0.12, the only valid positional argument will be `data`, and passing other arguments without an explicit keyword will result in an error or misinterpretation.\n",
      "  warnings.warn(\n"
     ]
    },
    {
     "data": {
      "image/png": "[encoded data removed]",
      "text/plain": [
       "<Figure size 720x360 with 1 Axes>"
      ]
     },
     "metadata": {},
     "output_type": "display_data"
    }
   ],
   "source": [
    "# Top 5 stories which are externally referred through Email\n",
    "plt.figure(figsize=(10,5))\n",
    "temp = top_email_articles\n",
    "g = sns.barplot( 'email_ratio', 'TitleName', data=temp, palette='coolwarm');\n",
    "plt.ylabel('');"
   ]
  },
  {
   "cell_type": "markdown",
   "metadata": {},
   "source": [
    "##  Top 5 stories which are externally referred through Google"
   ]
  },
  {
   "cell_type": "code",
   "execution_count": 348,
   "metadata": {},
   "outputs": [
    {
     "name": "stderr",
     "output_type": "stream",
     "text": [
      "/Library/Frameworks/Python.framework/Versions/3.10/lib/python3.10/site-packages/seaborn/_decorators.py:36: FutureWarning: Pass the following variables as keyword args: x, y. From version 0.12, the only valid positional argument will be `data`, and passing other arguments without an explicit keyword will result in an error or misinterpretation.\n",
      "  warnings.warn(\n"
     ]
    },
    {
     "data": {
      "image/png": "[encoded data removed]",
      "text/plain": [
       "<Figure size 720x360 with 1 Axes>"
      ]
     },
     "metadata": {},
     "output_type": "display_data"
    }
   ],
   "source": [
    "# Top 5 stories which are externally referred through Google\n",
    "plt.figure(figsize=(10,5))\n",
    "temp = top_google_articles\n",
    "g = sns.barplot( 'google_ratio', 'TitleName', data=temp, palette='coolwarm');\n",
    "plt.ylabel('');"
   ]
  },
  {
   "cell_type": "markdown",
   "metadata": {},
   "source": [
    "##  Top 5 stories which are externally referred through linkedIn"
   ]
  },
  {
   "cell_type": "code",
   "execution_count": 349,
   "metadata": {},
   "outputs": [
    {
     "name": "stderr",
     "output_type": "stream",
     "text": [
      "/Library/Frameworks/Python.framework/Versions/3.10/lib/python3.10/site-packages/seaborn/_decorators.py:36: FutureWarning: Pass the following variables as keyword args: x, y. From version 0.12, the only valid positional argument will be `data`, and passing other arguments without an explicit keyword will result in an error or misinterpretation.\n",
      "  warnings.warn(\n"
     ]
    },
    {
     "data": {
      "image/png": "[encoded data removed]",
      "text/plain": [
       "<Figure size 720x360 with 1 Axes>"
      ]
     },
     "metadata": {},
     "output_type": "display_data"
    }
   ],
   "source": [
    "# Top 5 stories which are externally referred through linkedIn\n",
    "plt.figure(figsize=(10,5))\n",
    "temp = top_linkedIn_articles\n",
    "g = sns.barplot( 'linkedIn_ratio', 'TitleName', data=temp, palette='coolwarm');\n",
    "plt.ylabel('');"
   ]
  }
 ],
 "metadata": {
  "colab": {
   "name": "MyMediumBlogDataCollection.ipynb",
   "provenance": []
  },
  "kernelspec": {
   "display_name": "Python 3 (ipykernel)",
   "language": "python",
   "name": "python3"
  },
  "language_info": {
   "codemirror_mode": {
    "name": "ipython",
    "version": 3
   },
   "file_extension": ".py",
   "mimetype": "text/x-python",
   "name": "python",
   "nbconvert_exporter": "python",
   "pygments_lexer": "ipython3",
   "version": "3.10.1"
  }
 },
 "nbformat": 4,
 "nbformat_minor": 1
}
